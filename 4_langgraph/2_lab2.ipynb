{
 "cells": [
  {
   "cell_type": "markdown",
   "metadata": {},
   "source": [
    "### And welcome to Week 4, Day 3 - more LangGraph.."
   ]
  },
  {
   "cell_type": "code",
   "execution_count": 1,
   "metadata": {},
   "outputs": [],
   "source": [
    "from typing import Annotated\n",
    "from langgraph.graph import StateGraph, START, END\n",
    "from langgraph.graph.message import add_messages\n",
    "from dotenv import load_dotenv\n",
    "from IPython.display import Image, display\n",
    "import gradio as gr\n",
    "from langgraph.prebuilt import ToolNode, tools_condition\n",
    "import requests\n",
    "import os\n",
    "from langchain_openai import ChatOpenAI\n",
    "from typing import TypedDict\n"
   ]
  },
  {
   "cell_type": "code",
   "execution_count": 2,
   "metadata": {},
   "outputs": [
    {
     "data": {
      "text/plain": [
       "True"
      ]
     },
     "execution_count": 2,
     "metadata": {},
     "output_type": "execute_result"
    }
   ],
   "source": [
    "# Our favorite first step! Crew was doing this for us, by the way.\n",
    "load_dotenv(override=True)\n"
   ]
  },
  {
   "cell_type": "markdown",
   "metadata": {},
   "source": [
    "### First, let's go set up LangSmith!\n",
    "\n",
    "https://langsmith.com"
   ]
  },
  {
   "cell_type": "markdown",
   "metadata": {},
   "source": [
    "### Next, here is a useful function in LangChain community:"
   ]
  },
  {
   "cell_type": "code",
   "execution_count": 3,
   "metadata": {},
   "outputs": [
    {
     "data": {
      "text/plain": [
       "\"Paris is the capital and largest city of France. With an estimated population of 2,048,472 residents in January 2025 in an area of more than 105 km2 (41 sq ... Paris is the capital and most populous city of France. Situated on the Seine River, in the north of the country, it is in the centre of the Île-de-France ... Paris is the capital of France, the largest country of Europe with 550 000 km2 (65 millions inhabitants). Paris has 2.234 million inhabitants end 2011. Paris, city and capital of France, located along the Seine River, in the north-central part of the country. Paris is one of the world's most ... The capital of France has been Paris since its liberation in 1944. NARRATOR: The Eiffel Tower is the best-known symbol of Paris, the capital of France. Paris is an important center for business and culture. With its wide ... What Is the Capital of France? Paris. The very name brings to mind tree-lined boulevards, grand monuments, sidewalk cafes, and so much more. The capital and by far the most important city of France is Paris, one of the world's preeminent cultural and commercial centres. Paris became capital of France because France evolved from a federation of counties to a kingdom, where the king was living a Paris. The ... Surface area: 633,186 sq. km. · Population 66.6 million · Capital city: Paris · Official language: French · Currency: Euro (EUR) · System of ...\""
      ]
     },
     "execution_count": 3,
     "metadata": {},
     "output_type": "execute_result"
    }
   ],
   "source": [
    "from langchain_community.utilities import GoogleSerperAPIWrapper\n",
    "\n",
    "serper = GoogleSerperAPIWrapper()\n",
    "serper.run(\"What is the capital of France?\")"
   ]
  },
  {
   "cell_type": "markdown",
   "metadata": {},
   "source": [
    "### Now here is a LangChain wrapper class for converting functions into Tools"
   ]
  },
  {
   "cell_type": "code",
   "execution_count": 4,
   "metadata": {},
   "outputs": [],
   "source": [
    "from langchain.agents import Tool\n",
    "\n",
    "tool_search =Tool(\n",
    "        name=\"search\",\n",
    "        func=serper.run,\n",
    "        description=\"Useful for when you need more information from an online search\"\n",
    "    )\n",
    "\n"
   ]
  },
  {
   "cell_type": "markdown",
   "metadata": {},
   "source": [
    "### Now we can try out the tool the langchain way"
   ]
  },
  {
   "cell_type": "code",
   "execution_count": 5,
   "metadata": {},
   "outputs": [
    {
     "data": {
      "text/plain": [
       "\"Paris is the capital and largest city of France. With an estimated population of 2,048,472 residents in January 2025 in an area of more than 105 km2 (41 sq ... Paris is the capital and most populous city of France. Situated on the Seine River, in the north of the country, it is in the centre of the Île-de-France ... Paris, city and capital of France, located along the Seine River, in the north-central part of the country. Paris is one of the world's most ... Paris is the capital of France, the largest country of Europe with 550 000 km2 (65 millions inhabitants). Paris has 2.234 million inhabitants end 2011. The capital of France has been Paris since its liberation in 1944. NARRATOR: The Eiffel Tower is the best-known symbol of Paris, the capital of France. Paris is an important center for business and culture. With its wide ... What Is the Capital of France? Paris. The very name brings to mind tree-lined boulevards, grand monuments, sidewalk cafes, and so much more. Paris became capital of France because France evolved from a federation of counties to a kingdom, where the king was living a Paris. The ... Surface area: 633,186 sq. km. · Population 66.6 million · Capital city: Paris · Official language: French · Currency: Euro (EUR) · System of ... Known for its romantic ambiance, Paris boasts charming streets, world-class cuisine, chic boutiques, and vibrant cafes. The city is also a ...\""
      ]
     },
     "execution_count": 5,
     "metadata": {},
     "output_type": "execute_result"
    }
   ],
   "source": [
    "tool_search.invoke(\"What is the capital of France?\")"
   ]
  },
  {
   "cell_type": "markdown",
   "metadata": {},
   "source": [
    "### And now let's write a tool ourselves\n",
    "\n",
    "We'll pick a familiar one"
   ]
  },
  {
   "cell_type": "code",
   "execution_count": 6,
   "metadata": {},
   "outputs": [],
   "source": [
    "pushover_token = os.getenv(\"PUSHOVER_TOKEN\")\n",
    "pushover_user = os.getenv(\"PUSHOVER_USER\")\n",
    "pushover_url = \"https://api.pushover.net/1/messages.json\"\n",
    "\n",
    "def push(text: str):\n",
    "    \"\"\"Send a push notification to the user\"\"\"\n",
    "    requests.post(pushover_url, data = {\"token\": pushover_token, \"user\": pushover_user, \"message\": text})"
   ]
  },
  {
   "cell_type": "code",
   "execution_count": 7,
   "metadata": {},
   "outputs": [],
   "source": [
    "tool_push = Tool(\n",
    "        name=\"send_push_notification\",\n",
    "        func=push,\n",
    "        description=\"useful for when you want to send a push notification\"\n",
    "    )\n",
    "\n",
    "tool_push.invoke(\"Hello, me\")"
   ]
  },
  {
   "cell_type": "markdown",
   "metadata": {},
   "source": [
    "### Back to the Graph from yesterday\n",
    "\n",
    "One small change - using TypedDict instead of BaseModel for the State object\n",
    "\n",
    "When we implement tools, we always need to make 2 changes to the code:\n",
    "\n",
    "1. Changes to provide the tools to OpenAI in json when we make the call\n",
    "\n",
    "2. Changes to handle the results back: look for the model staying that the finish_reason==\"tool_calls\" and then retrieve the call, run the function, provide the results."
   ]
  },
  {
   "cell_type": "markdown",
   "metadata": {},
   "source": [
    "### Bring them together"
   ]
  },
  {
   "cell_type": "code",
   "execution_count": 8,
   "metadata": {},
   "outputs": [],
   "source": [
    "tools = [tool_search, tool_push]"
   ]
  },
  {
   "cell_type": "code",
   "execution_count": 9,
   "metadata": {},
   "outputs": [],
   "source": [
    "# Step 1: Define the State object\n",
    "class State(TypedDict):\n",
    "    messages: Annotated[list, add_messages]"
   ]
  },
  {
   "cell_type": "code",
   "execution_count": 10,
   "metadata": {},
   "outputs": [],
   "source": [
    "# Step 2: Start the Graph Builder with this State class\n",
    "graph_builder = StateGraph(State)"
   ]
  },
  {
   "cell_type": "code",
   "execution_count": 11,
   "metadata": {},
   "outputs": [],
   "source": [
    "# This is different:\n",
    "\n",
    "llm = ChatOpenAI(model=\"gpt-4o-mini\")\n",
    "llm_with_tools = llm.bind_tools(tools)"
   ]
  },
  {
   "cell_type": "code",
   "execution_count": 12,
   "metadata": {},
   "outputs": [
    {
     "data": {
      "text/plain": [
       "<langgraph.graph.state.StateGraph at 0x12b45d2b0>"
      ]
     },
     "execution_count": 12,
     "metadata": {},
     "output_type": "execute_result"
    }
   ],
   "source": [
    "# Step 3: Create a Node\n",
    "\n",
    "\n",
    "def chatbot(state: State):\n",
    "    return {\"messages\": [llm_with_tools.invoke(state[\"messages\"])]}\n",
    "\n",
    "graph_builder.add_node(\"chatbot\", chatbot)\n",
    "graph_builder.add_node(\"tools\", ToolNode(tools=tools))"
   ]
  },
  {
   "cell_type": "code",
   "execution_count": 13,
   "metadata": {},
   "outputs": [
    {
     "data": {
      "text/plain": [
       "<langgraph.graph.state.StateGraph at 0x12b45d2b0>"
      ]
     },
     "execution_count": 13,
     "metadata": {},
     "output_type": "execute_result"
    }
   ],
   "source": [
    "# Step 4: Create Edges\n",
    "\n",
    "\n",
    "graph_builder.add_conditional_edges(\"chatbot\", tools_condition, \"tools\")\n",
    "\n",
    "# Any time a tool is called, we return to the chatbot to decide the next step\n",
    "graph_builder.add_edge(\"tools\", \"chatbot\")\n",
    "graph_builder.add_edge(START, \"chatbot\")"
   ]
  },
  {
   "cell_type": "code",
   "execution_count": 14,
   "metadata": {},
   "outputs": [
    {
     "data": {
      "image/png": "[encoded data removed]",
      "text/plain": [
       "<IPython.core.display.Image object>"
      ]
     },
     "metadata": {},
     "output_type": "display_data"
    }
   ],
   "source": [
    "# Step 5: Compile the Graph\n",
    "graph = graph_builder.compile()\n",
    "display(Image(graph.get_graph().draw_mermaid_png()))"
   ]
  },
  {
   "cell_type": "markdown",
   "metadata": {},
   "source": [
    "### That's it! And, let's do this:"
   ]
  },
  {
   "cell_type": "code",
   "execution_count": 15,
   "metadata": {},
   "outputs": [
    {
     "name": "stdout",
     "output_type": "stream",
     "text": [
      "* Running on local URL:  http://127.0.0.1:7862\n",
      "* To create a public link, set `share=True` in `launch()`.\n"
     ]
    },
    {
     "data": {
      "text/html": [
       "<div><iframe src=\"http://127.0.0.1:7862/\" width=\"100%\" height=\"500\" allow=\"autoplay; camera; microphone; clipboard-read; clipboard-write;\" frameborder=\"0\" allowfullscreen></iframe></div>"
      ],
      "text/plain": [
       "<IPython.core.display.HTML object>"
      ]
     },
     "metadata": {},
     "output_type": "display_data"
    },
    {
     "data": {
      "text/plain": []
     },
     "execution_count": 15,
     "metadata": {},
     "output_type": "execute_result"
    }
   ],
   "source": [
    "def chat(user_input: str, history):\n",
    "    result = graph.invoke({\"messages\": [{\"role\": \"user\", \"content\": user_input}]})\n",
    "    return result[\"messages\"][-1].content\n",
    "\n",
    "\n",
    "gr.ChatInterface(chat, type=\"messages\").launch()"
   ]
  },
  {
   "cell_type": "markdown",
   "metadata": {},
   "source": [
    "## OK it's time to add Memory!\n",
    "\n",
    "### BUT WAIT!\n",
    "\n",
    "We have this whole Graph maintaining the state and appending to the state.\n",
    "\n",
    "Why isn't this handling memory?\n",
    "\n",
    "### This is a crucial point for understanding LangGraph\n",
    "\n",
    "> A super-step can be considered a single iteration over the graph nodes. Nodes that run in parallel are part of the same super-step, while nodes that run sequentially belong to separate super-steps.\n",
    "\n",
    "\n",
    "One \"Super-Step\" of the graph represents one invocation of passing messages between agents.\n",
    "\n",
    "In idomatic LangGraph, you call invoke to run your graph for each super-step; for each interaction.\n",
    "\n",
    "The reducer handles state updates automatically within one super-step, but not between them.\n",
    "\n",
    "That is what checkpointing achieves."
   ]
  },
  {
   "cell_type": "code",
   "execution_count": 16,
   "metadata": {},
   "outputs": [],
   "source": [
    "from langgraph.checkpoint.memory import MemorySaver\n",
    "\n",
    "memory = MemorySaver()"
   ]
  },
  {
   "cell_type": "code",
   "execution_count": 17,
   "metadata": {},
   "outputs": [
    {
     "data": {
      "image/png": "[encoded data removed]",
      "text/plain": [
       "<IPython.core.display.Image object>"
      ]
     },
     "metadata": {},
     "output_type": "display_data"
    }
   ],
   "source": [
    "# Steps 1 and 2\n",
    "graph_builder = StateGraph(State)\n",
    "\n",
    "\n",
    "# Step 3\n",
    "llm = ChatOpenAI(model=\"gpt-4o-mini\")\n",
    "llm_with_tools = llm.bind_tools(tools)\n",
    "\n",
    "def chatbot(state: State):\n",
    "    print(state)\n",
    "    return {\"messages\": [llm_with_tools.invoke(state[\"messages\"])]}\n",
    "\n",
    "graph_builder.add_node(\"chatbot\", chatbot)\n",
    "graph_builder.add_node(\"tools\", ToolNode(tools=tools))\n",
    "\n",
    "# Step 4\n",
    "graph_builder.add_conditional_edges( \"chatbot\", tools_condition, \"tools\")\n",
    "graph_builder.add_edge(\"tools\", \"chatbot\")\n",
    "graph_builder.add_edge(START, \"chatbot\")\n",
    "\n",
    "# Step 5\n",
    "graph = graph_builder.compile(checkpointer=memory)\n",
    "display(Image(graph.get_graph().draw_mermaid_png()))"
   ]
  },
  {
   "cell_type": "code",
   "execution_count": 18,
   "metadata": {},
   "outputs": [
    {
     "name": "stdout",
     "output_type": "stream",
     "text": [
      "* Running on local URL:  http://127.0.0.1:7863\n",
      "* To create a public link, set `share=True` in `launch()`.\n"
     ]
    },
    {
     "data": {
      "text/html": [
       "<div><iframe src=\"http://127.0.0.1:7863/\" width=\"100%\" height=\"500\" allow=\"autoplay; camera; microphone; clipboard-read; clipboard-write;\" frameborder=\"0\" allowfullscreen></iframe></div>"
      ],
      "text/plain": [
       "<IPython.core.display.HTML object>"
      ]
     },
     "metadata": {},
     "output_type": "display_data"
    },
    {
     "data": {
      "text/plain": []
     },
     "execution_count": 18,
     "metadata": {},
     "output_type": "execute_result"
    }
   ],
   "source": [
    "config = {\"configurable\": {\"thread_id\": \"1\"}}\n",
    "\n",
    "def chat(user_input: str, history):\n",
    "    result = graph.invoke({\"messages\": [{\"role\": \"user\", \"content\": user_input}]}, config=config)\n",
    "    return result[\"messages\"][-1].content\n",
    "\n",
    "\n",
    "gr.ChatInterface(chat, type=\"messages\").launch()"
   ]
  },
  {
   "cell_type": "code",
   "execution_count": 19,
   "metadata": {},
   "outputs": [
    {
     "data": {
      "text/plain": [
       "StateSnapshot(values={}, next=(), config={'configurable': {'thread_id': '1'}}, metadata=None, created_at=None, parent_config=None, tasks=(), interrupts=())"
      ]
     },
     "execution_count": 19,
     "metadata": {},
     "output_type": "execute_result"
    }
   ],
   "source": [
    "graph.get_state(config)"
   ]
  },
  {
   "cell_type": "code",
   "execution_count": null,
   "metadata": {},
   "outputs": [],
   "source": [
    "# Most recent first\n",
    "\n",
    "list(graph.get_state_history(config))"
   ]
  },
  {
   "cell_type": "markdown",
   "metadata": {},
   "source": [
    "### LangGraph gives you tools to set the state back to a prior point in time, to branch off:\n",
    "\n",
    "```\n",
    "config = {\"configurable\": {\"thread_id\": \"1\", \"checkpoint_id\": ...}}\n",
    "graph.invoke(None, config=config)\n",
    "```\n",
    "\n",
    "And this allows you to build stable systems that can be recovered and rerun from any prior checkpoint."
   ]
  },
  {
   "cell_type": "markdown",
   "metadata": {},
   "source": [
    "### And now let's store in SQL\n",
    "\n",
    "### And this is the power of LangGraph."
   ]
  },
  {
   "cell_type": "code",
   "execution_count": 20,
   "metadata": {},
   "outputs": [],
   "source": [
    "import sqlite3\n",
    "from langgraph.checkpoint.sqlite import SqliteSaver\n",
    "\n",
    "db_path = \"memory.db\"\n",
    "conn = sqlite3.connect(db_path, check_same_thread=False)\n",
    "sql_memory = SqliteSaver(conn)"
   ]
  },
  {
   "cell_type": "code",
   "execution_count": 21,
   "metadata": {},
   "outputs": [
    {
     "data": {
      "image/png": "[encoded data removed]",
      "text/plain": [
       "<IPython.core.display.Image object>"
      ]
     },
     "metadata": {},
     "output_type": "display_data"
    }
   ],
   "source": [
    "# Steps 1 and 2\n",
    "graph_builder = StateGraph(State)\n",
    "\n",
    "\n",
    "# Step 3\n",
    "llm = ChatOpenAI(model=\"gpt-4o-mini\")\n",
    "llm_with_tools = llm.bind_tools(tools)\n",
    "\n",
    "def chatbot(state: State):\n",
    "    print(state)\n",
    "    return {\"messages\": [llm_with_tools.invoke(state[\"messages\"])]}\n",
    "\n",
    "graph_builder.add_node(\"chatbot\", chatbot)\n",
    "graph_builder.add_node(\"tools\", ToolNode(tools=tools))\n",
    "\n",
    "# Step 4\n",
    "graph_builder.add_conditional_edges( \"chatbot\", tools_condition, \"tools\")\n",
    "graph_builder.add_edge(\"tools\", \"chatbot\")\n",
    "graph_builder.add_edge(START, \"chatbot\")\n",
    "\n",
    "# Step 5\n",
    "graph = graph_builder.compile(checkpointer=sql_memory)\n",
    "display(Image(graph.get_graph().draw_mermaid_png()))\n",
    " "
   ]
  },
  {
   "cell_type": "code",
   "execution_count": 22,
   "metadata": {},
   "outputs": [
    {
     "name": "stdout",
     "output_type": "stream",
     "text": [
      "* Running on local URL:  http://127.0.0.1:7864\n",
      "* To create a public link, set `share=True` in `launch()`.\n"
     ]
    },
    {
     "data": {
      "text/html": [
       "<div><iframe src=\"http://127.0.0.1:7864/\" width=\"100%\" height=\"500\" allow=\"autoplay; camera; microphone; clipboard-read; clipboard-write;\" frameborder=\"0\" allowfullscreen></iframe></div>"
      ],
      "text/plain": [
       "<IPython.core.display.HTML object>"
      ]
     },
     "metadata": {},
     "output_type": "display_data"
    },
    {
     "data": {
      "text/plain": []
     },
     "execution_count": 22,
     "metadata": {},
     "output_type": "execute_result"
    },
    {
     "name": "stdout",
     "output_type": "stream",
     "text": [
      "{'messages': [HumanMessage(content='hi there', additional_kwargs={}, response_metadata={}, id='d6144090-9963-438c-b21b-3fb4f06edbc0'), AIMessage(content='Hello! How can I assist you today?', additional_kwargs={'refusal': None}, response_metadata={'token_usage': {'completion_tokens': 11, 'prompt_tokens': 90, 'total_tokens': 101, 'completion_tokens_details': {'accepted_prediction_tokens': 0, 'audio_tokens': 0, 'reasoning_tokens': 0, 'rejected_prediction_tokens': 0}, 'prompt_tokens_details': {'audio_tokens': 0, 'cached_tokens': 0}}, 'model_name': 'gpt-4o-mini-2024-07-18', 'system_fingerprint': 'fp_b376dfbbd5', 'id': 'chatcmpl-BInN7JUnEYNTQqokCF3eihp5oKP0V', 'finish_reason': 'stop', 'logprobs': None}, id='run-4b488710-73ac-435e-a944-913a0c812d08-0', usage_metadata={'input_tokens': 90, 'output_tokens': 11, 'total_tokens': 101, 'input_token_details': {'audio': 0, 'cache_read': 0}, 'output_token_details': {'audio': 0, 'reasoning': 0}}), HumanMessage(content=\"what's my name\", additional_kwargs={}, response_metadata={}, id='0ee3236f-a0f8-487c-9e18-3a1a83e91d81'), AIMessage(content=\"I don't have access to personal information unless you provide it. What would you like me to call you?\", additional_kwargs={'refusal': None}, response_metadata={'token_usage': {'completion_tokens': 23, 'prompt_tokens': 111, 'total_tokens': 134, 'completion_tokens_details': {'accepted_prediction_tokens': 0, 'audio_tokens': 0, 'reasoning_tokens': 0, 'rejected_prediction_tokens': 0}, 'prompt_tokens_details': {'audio_tokens': 0, 'cached_tokens': 0}}, 'model_name': 'gpt-4o-mini-2024-07-18', 'system_fingerprint': 'fp_b376dfbbd5', 'id': 'chatcmpl-BInNEm0T32rf7Lx23sOvrcePfgL8d', 'finish_reason': 'stop', 'logprobs': None}, id='run-c12bd46c-0c94-475c-b281-89773b1947a2-0', usage_metadata={'input_tokens': 111, 'output_tokens': 23, 'total_tokens': 134, 'input_token_details': {'audio': 0, 'cache_read': 0}, 'output_token_details': {'audio': 0, 'reasoning': 0}}), HumanMessage(content=\"My name's Ed\", additional_kwargs={}, response_metadata={}, id='65e59191-b993-4faf-9699-197f70b79fcd'), AIMessage(content='Nice to meet you, Ed! How can I assist you today?', additional_kwargs={'refusal': None}, response_metadata={'token_usage': {'completion_tokens': 16, 'prompt_tokens': 144, 'total_tokens': 160, 'completion_tokens_details': {'accepted_prediction_tokens': 0, 'audio_tokens': 0, 'reasoning_tokens': 0, 'rejected_prediction_tokens': 0}, 'prompt_tokens_details': {'audio_tokens': 0, 'cached_tokens': 0}}, 'model_name': 'gpt-4o-mini-2024-07-18', 'system_fingerprint': 'fp_b376dfbbd5', 'id': 'chatcmpl-BInNLLW9Z5vrmr2MUfk6CLJBnCMOg', 'finish_reason': 'stop', 'logprobs': None}, id='run-68e08e4e-bc27-4802-b800-8fb359a5d976-0', usage_metadata={'input_tokens': 144, 'output_tokens': 16, 'total_tokens': 160, 'input_token_details': {'audio': 0, 'cache_read': 0}, 'output_token_details': {'audio': 0, 'reasoning': 0}}), HumanMessage(content='hi there', additional_kwargs={}, response_metadata={}, id='dfeeb914-53d6-404f-9a5c-0531f1fe43fe'), AIMessage(content='Hello again, Ed! How can I help you today?', additional_kwargs={'refusal': None}, response_metadata={'token_usage': {'completion_tokens': 14, 'prompt_tokens': 168, 'total_tokens': 182, 'completion_tokens_details': {'accepted_prediction_tokens': 0, 'audio_tokens': 0, 'reasoning_tokens': 0, 'rejected_prediction_tokens': 0}, 'prompt_tokens_details': {'audio_tokens': 0, 'cached_tokens': 0}}, 'model_name': 'gpt-4o-mini-2024-07-18', 'system_fingerprint': 'fp_b376dfbbd5', 'id': 'chatcmpl-BInOS7TKECQA9Trbcv3mBsxkVJ8c3', 'finish_reason': 'stop', 'logprobs': None}, id='run-8b9e7d2c-d34d-4d84-99d2-dcb6b26b84bf-0', usage_metadata={'input_tokens': 168, 'output_tokens': 14, 'total_tokens': 182, 'input_token_details': {'audio': 0, 'cache_read': 0}, 'output_token_details': {'audio': 0, 'reasoning': 0}}), HumanMessage(content='please send me a push notification with the current usd/gbp exchange rate', additional_kwargs={}, response_metadata={}, id='6e096518-8d44-40e9-8aba-bf5027dac79c'), AIMessage(content='', additional_kwargs={'tool_calls': [{'id': 'call_mFP2QpmSUYlvqjz3HBvRv0Cv', 'function': {'arguments': '{\"__arg1\":\"current USD to GBP exchange rate\"}', 'name': 'search'}, 'type': 'function'}], 'refusal': None}, response_metadata={'token_usage': {'completion_tokens': 21, 'prompt_tokens': 203, 'total_tokens': 224, 'completion_tokens_details': {'accepted_prediction_tokens': 0, 'audio_tokens': 0, 'reasoning_tokens': 0, 'rejected_prediction_tokens': 0}, 'prompt_tokens_details': {'audio_tokens': 0, 'cached_tokens': 0}}, 'model_name': 'gpt-4o-mini-2024-07-18', 'system_fingerprint': 'fp_b376dfbbd5', 'id': 'chatcmpl-BInShCTgCsggydsrv3MmpIXLyvzGF', 'finish_reason': 'tool_calls', 'logprobs': None}, id='run-1bc3e47d-30c5-40f4-a9da-42dd24e74732-0', tool_calls=[{'name': 'search', 'args': {'__arg1': 'current USD to GBP exchange rate'}, 'id': 'call_mFP2QpmSUYlvqjz3HBvRv0Cv', 'type': 'tool_call'}], usage_metadata={'input_tokens': 203, 'output_tokens': 21, 'total_tokens': 224, 'input_token_details': {'audio': 0, 'cache_read': 0}, 'output_token_details': {'audio': 0, 'reasoning': 0}}), ToolMessage(content='0.78 Pound sterling', name='search', id='04044643-e40a-4bda-a03c-bc80949d039c', tool_call_id='call_mFP2QpmSUYlvqjz3HBvRv0Cv'), AIMessage(content='', additional_kwargs={'tool_calls': [{'id': 'call_2RByu6cFdwow5BWX8eblN402', 'function': {'arguments': '{\"__arg1\":\"The current USD/GBP exchange rate is 0.78.\"}', 'name': 'send_push_notification'}, 'type': 'function'}], 'refusal': None}, response_metadata={'token_usage': {'completion_tokens': 30, 'prompt_tokens': 235, 'total_tokens': 265, 'completion_tokens_details': {'accepted_prediction_tokens': 0, 'audio_tokens': 0, 'reasoning_tokens': 0, 'rejected_prediction_tokens': 0}, 'prompt_tokens_details': {'audio_tokens': 0, 'cached_tokens': 0}}, 'model_name': 'gpt-4o-mini-2024-07-18', 'system_fingerprint': 'fp_b376dfbbd5', 'id': 'chatcmpl-BInSjgdmKJqByJ2VIxpCZE5vEQpep', 'finish_reason': 'tool_calls', 'logprobs': None}, id='run-030db0cd-4acc-4354-aa65-ae772d33be07-0', tool_calls=[{'name': 'send_push_notification', 'args': {'__arg1': 'The current USD/GBP exchange rate is 0.78.'}, 'id': 'call_2RByu6cFdwow5BWX8eblN402', 'type': 'tool_call'}], usage_metadata={'input_tokens': 235, 'output_tokens': 30, 'total_tokens': 265, 'input_token_details': {'audio': 0, 'cache_read': 0}, 'output_token_details': {'audio': 0, 'reasoning': 0}}), ToolMessage(content='null', name='send_push_notification', id='f16f6e9d-2d0e-4aca-991f-0d9fe7064574', tool_call_id='call_2RByu6cFdwow5BWX8eblN402'), AIMessage(content=\"I've sent you a push notification with the current USD/GBP exchange rate: 0.78. If you need anything else, just let me know!\", additional_kwargs={'refusal': None}, response_metadata={'token_usage': {'completion_tokens': 33, 'prompt_tokens': 274, 'total_tokens': 307, 'completion_tokens_details': {'accepted_prediction_tokens': 0, 'audio_tokens': 0, 'reasoning_tokens': 0, 'rejected_prediction_tokens': 0}, 'prompt_tokens_details': {'audio_tokens': 0, 'cached_tokens': 0}}, 'model_name': 'gpt-4o-mini-2024-07-18', 'system_fingerprint': 'fp_b376dfbbd5', 'id': 'chatcmpl-BInSk4W7o3wDEZhzLtixtWOVgEw4Y', 'finish_reason': 'stop', 'logprobs': None}, id='run-bc27a847-b5bf-4565-85af-8e3163f2c271-0', usage_metadata={'input_tokens': 274, 'output_tokens': 33, 'total_tokens': 307, 'input_token_details': {'audio': 0, 'cache_read': 0}, 'output_token_details': {'audio': 0, 'reasoning': 0}}), HumanMessage(content='can you send that push notification again please', additional_kwargs={}, response_metadata={}, id='328adc3d-8c39-4312-952c-3d3b87d5f736'), AIMessage(content='', additional_kwargs={'tool_calls': [{'id': 'call_9xFtRNwSPl00BBRdY3VGdZ9Y', 'function': {'arguments': '{\"__arg1\":\"The current USD/GBP exchange rate is 0.78.\"}', 'name': 'send_push_notification'}, 'type': 'function'}], 'refusal': None}, response_metadata={'token_usage': {'completion_tokens': 30, 'prompt_tokens': 321, 'total_tokens': 351, 'completion_tokens_details': {'accepted_prediction_tokens': 0, 'audio_tokens': 0, 'reasoning_tokens': 0, 'rejected_prediction_tokens': 0}, 'prompt_tokens_details': {'audio_tokens': 0, 'cached_tokens': 0}}, 'model_name': 'gpt-4o-mini-2024-07-18', 'system_fingerprint': 'fp_b376dfbbd5', 'id': 'chatcmpl-BInTHUIOvZ0DAwfqnVlb1SRlaKHmH', 'finish_reason': 'tool_calls', 'logprobs': None}, id='run-a2225381-34da-44b4-9e8d-45a0b8c29693-0', tool_calls=[{'name': 'send_push_notification', 'args': {'__arg1': 'The current USD/GBP exchange rate is 0.78.'}, 'id': 'call_9xFtRNwSPl00BBRdY3VGdZ9Y', 'type': 'tool_call'}], usage_metadata={'input_tokens': 321, 'output_tokens': 30, 'total_tokens': 351, 'input_token_details': {'audio': 0, 'cache_read': 0}, 'output_token_details': {'audio': 0, 'reasoning': 0}}), ToolMessage(content='null', name='send_push_notification', id='433985ee-9eeb-4b4b-866e-23cfc0f8e9fb', tool_call_id='call_9xFtRNwSPl00BBRdY3VGdZ9Y'), AIMessage(content=\"I've sent the push notification again with the current USD/GBP exchange rate: 0.78. If there's anything else you need, feel free to ask!\", additional_kwargs={'refusal': None}, response_metadata={'token_usage': {'completion_tokens': 34, 'prompt_tokens': 360, 'total_tokens': 394, 'completion_tokens_details': {'accepted_prediction_tokens': 0, 'audio_tokens': 0, 'reasoning_tokens': 0, 'rejected_prediction_tokens': 0}, 'prompt_tokens_details': {'audio_tokens': 0, 'cached_tokens': 0}}, 'model_name': 'gpt-4o-mini-2024-07-18', 'system_fingerprint': 'fp_b376dfbbd5', 'id': 'chatcmpl-BInTJ24F3iaC2JFCLGFb715HxeWU9', 'finish_reason': 'stop', 'logprobs': None}, id='run-eda57a8e-26a4-4aed-a3c6-ce404e2d5cfa-0', usage_metadata={'input_tokens': 360, 'output_tokens': 34, 'total_tokens': 394, 'input_token_details': {'audio': 0, 'cache_read': 0}, 'output_token_details': {'audio': 0, 'reasoning': 0}}), HumanMessage(content='please send me a push notification about the currently sold switch 2 number', additional_kwargs={}, response_metadata={}, id='e50afff8-345c-49ce-91fd-abad3fd0f181')]}\n",
      "{'messages': [HumanMessage(content='hi there', additional_kwargs={}, response_metadata={}, id='d6144090-9963-438c-b21b-3fb4f06edbc0'), AIMessage(content='Hello! How can I assist you today?', additional_kwargs={'refusal': None}, response_metadata={'token_usage': {'completion_tokens': 11, 'prompt_tokens': 90, 'total_tokens': 101, 'completion_tokens_details': {'accepted_prediction_tokens': 0, 'audio_tokens': 0, 'reasoning_tokens': 0, 'rejected_prediction_tokens': 0}, 'prompt_tokens_details': {'audio_tokens': 0, 'cached_tokens': 0}}, 'model_name': 'gpt-4o-mini-2024-07-18', 'system_fingerprint': 'fp_b376dfbbd5', 'id': 'chatcmpl-BInN7JUnEYNTQqokCF3eihp5oKP0V', 'finish_reason': 'stop', 'logprobs': None}, id='run-4b488710-73ac-435e-a944-913a0c812d08-0', usage_metadata={'input_tokens': 90, 'output_tokens': 11, 'total_tokens': 101, 'input_token_details': {'audio': 0, 'cache_read': 0}, 'output_token_details': {'audio': 0, 'reasoning': 0}}), HumanMessage(content=\"what's my name\", additional_kwargs={}, response_metadata={}, id='0ee3236f-a0f8-487c-9e18-3a1a83e91d81'), AIMessage(content=\"I don't have access to personal information unless you provide it. What would you like me to call you?\", additional_kwargs={'refusal': None}, response_metadata={'token_usage': {'completion_tokens': 23, 'prompt_tokens': 111, 'total_tokens': 134, 'completion_tokens_details': {'accepted_prediction_tokens': 0, 'audio_tokens': 0, 'reasoning_tokens': 0, 'rejected_prediction_tokens': 0}, 'prompt_tokens_details': {'audio_tokens': 0, 'cached_tokens': 0}}, 'model_name': 'gpt-4o-mini-2024-07-18', 'system_fingerprint': 'fp_b376dfbbd5', 'id': 'chatcmpl-BInNEm0T32rf7Lx23sOvrcePfgL8d', 'finish_reason': 'stop', 'logprobs': None}, id='run-c12bd46c-0c94-475c-b281-89773b1947a2-0', usage_metadata={'input_tokens': 111, 'output_tokens': 23, 'total_tokens': 134, 'input_token_details': {'audio': 0, 'cache_read': 0}, 'output_token_details': {'audio': 0, 'reasoning': 0}}), HumanMessage(content=\"My name's Ed\", additional_kwargs={}, response_metadata={}, id='65e59191-b993-4faf-9699-197f70b79fcd'), AIMessage(content='Nice to meet you, Ed! How can I assist you today?', additional_kwargs={'refusal': None}, response_metadata={'token_usage': {'completion_tokens': 16, 'prompt_tokens': 144, 'total_tokens': 160, 'completion_tokens_details': {'accepted_prediction_tokens': 0, 'audio_tokens': 0, 'reasoning_tokens': 0, 'rejected_prediction_tokens': 0}, 'prompt_tokens_details': {'audio_tokens': 0, 'cached_tokens': 0}}, 'model_name': 'gpt-4o-mini-2024-07-18', 'system_fingerprint': 'fp_b376dfbbd5', 'id': 'chatcmpl-BInNLLW9Z5vrmr2MUfk6CLJBnCMOg', 'finish_reason': 'stop', 'logprobs': None}, id='run-68e08e4e-bc27-4802-b800-8fb359a5d976-0', usage_metadata={'input_tokens': 144, 'output_tokens': 16, 'total_tokens': 160, 'input_token_details': {'audio': 0, 'cache_read': 0}, 'output_token_details': {'audio': 0, 'reasoning': 0}}), HumanMessage(content='hi there', additional_kwargs={}, response_metadata={}, id='dfeeb914-53d6-404f-9a5c-0531f1fe43fe'), AIMessage(content='Hello again, Ed! How can I help you today?', additional_kwargs={'refusal': None}, response_metadata={'token_usage': {'completion_tokens': 14, 'prompt_tokens': 168, 'total_tokens': 182, 'completion_tokens_details': {'accepted_prediction_tokens': 0, 'audio_tokens': 0, 'reasoning_tokens': 0, 'rejected_prediction_tokens': 0}, 'prompt_tokens_details': {'audio_tokens': 0, 'cached_tokens': 0}}, 'model_name': 'gpt-4o-mini-2024-07-18', 'system_fingerprint': 'fp_b376dfbbd5', 'id': 'chatcmpl-BInOS7TKECQA9Trbcv3mBsxkVJ8c3', 'finish_reason': 'stop', 'logprobs': None}, id='run-8b9e7d2c-d34d-4d84-99d2-dcb6b26b84bf-0', usage_metadata={'input_tokens': 168, 'output_tokens': 14, 'total_tokens': 182, 'input_token_details': {'audio': 0, 'cache_read': 0}, 'output_token_details': {'audio': 0, 'reasoning': 0}}), HumanMessage(content='please send me a push notification with the current usd/gbp exchange rate', additional_kwargs={}, response_metadata={}, id='6e096518-8d44-40e9-8aba-bf5027dac79c'), AIMessage(content='', additional_kwargs={'tool_calls': [{'id': 'call_mFP2QpmSUYlvqjz3HBvRv0Cv', 'function': {'arguments': '{\"__arg1\":\"current USD to GBP exchange rate\"}', 'name': 'search'}, 'type': 'function'}], 'refusal': None}, response_metadata={'token_usage': {'completion_tokens': 21, 'prompt_tokens': 203, 'total_tokens': 224, 'completion_tokens_details': {'accepted_prediction_tokens': 0, 'audio_tokens': 0, 'reasoning_tokens': 0, 'rejected_prediction_tokens': 0}, 'prompt_tokens_details': {'audio_tokens': 0, 'cached_tokens': 0}}, 'model_name': 'gpt-4o-mini-2024-07-18', 'system_fingerprint': 'fp_b376dfbbd5', 'id': 'chatcmpl-BInShCTgCsggydsrv3MmpIXLyvzGF', 'finish_reason': 'tool_calls', 'logprobs': None}, id='run-1bc3e47d-30c5-40f4-a9da-42dd24e74732-0', tool_calls=[{'name': 'search', 'args': {'__arg1': 'current USD to GBP exchange rate'}, 'id': 'call_mFP2QpmSUYlvqjz3HBvRv0Cv', 'type': 'tool_call'}], usage_metadata={'input_tokens': 203, 'output_tokens': 21, 'total_tokens': 224, 'input_token_details': {'audio': 0, 'cache_read': 0}, 'output_token_details': {'audio': 0, 'reasoning': 0}}), ToolMessage(content='0.78 Pound sterling', name='search', id='04044643-e40a-4bda-a03c-bc80949d039c', tool_call_id='call_mFP2QpmSUYlvqjz3HBvRv0Cv'), AIMessage(content='', additional_kwargs={'tool_calls': [{'id': 'call_2RByu6cFdwow5BWX8eblN402', 'function': {'arguments': '{\"__arg1\":\"The current USD/GBP exchange rate is 0.78.\"}', 'name': 'send_push_notification'}, 'type': 'function'}], 'refusal': None}, response_metadata={'token_usage': {'completion_tokens': 30, 'prompt_tokens': 235, 'total_tokens': 265, 'completion_tokens_details': {'accepted_prediction_tokens': 0, 'audio_tokens': 0, 'reasoning_tokens': 0, 'rejected_prediction_tokens': 0}, 'prompt_tokens_details': {'audio_tokens': 0, 'cached_tokens': 0}}, 'model_name': 'gpt-4o-mini-2024-07-18', 'system_fingerprint': 'fp_b376dfbbd5', 'id': 'chatcmpl-BInSjgdmKJqByJ2VIxpCZE5vEQpep', 'finish_reason': 'tool_calls', 'logprobs': None}, id='run-030db0cd-4acc-4354-aa65-ae772d33be07-0', tool_calls=[{'name': 'send_push_notification', 'args': {'__arg1': 'The current USD/GBP exchange rate is 0.78.'}, 'id': 'call_2RByu6cFdwow5BWX8eblN402', 'type': 'tool_call'}], usage_metadata={'input_tokens': 235, 'output_tokens': 30, 'total_tokens': 265, 'input_token_details': {'audio': 0, 'cache_read': 0}, 'output_token_details': {'audio': 0, 'reasoning': 0}}), ToolMessage(content='null', name='send_push_notification', id='f16f6e9d-2d0e-4aca-991f-0d9fe7064574', tool_call_id='call_2RByu6cFdwow5BWX8eblN402'), AIMessage(content=\"I've sent you a push notification with the current USD/GBP exchange rate: 0.78. If you need anything else, just let me know!\", additional_kwargs={'refusal': None}, response_metadata={'token_usage': {'completion_tokens': 33, 'prompt_tokens': 274, 'total_tokens': 307, 'completion_tokens_details': {'accepted_prediction_tokens': 0, 'audio_tokens': 0, 'reasoning_tokens': 0, 'rejected_prediction_tokens': 0}, 'prompt_tokens_details': {'audio_tokens': 0, 'cached_tokens': 0}}, 'model_name': 'gpt-4o-mini-2024-07-18', 'system_fingerprint': 'fp_b376dfbbd5', 'id': 'chatcmpl-BInSk4W7o3wDEZhzLtixtWOVgEw4Y', 'finish_reason': 'stop', 'logprobs': None}, id='run-bc27a847-b5bf-4565-85af-8e3163f2c271-0', usage_metadata={'input_tokens': 274, 'output_tokens': 33, 'total_tokens': 307, 'input_token_details': {'audio': 0, 'cache_read': 0}, 'output_token_details': {'audio': 0, 'reasoning': 0}}), HumanMessage(content='can you send that push notification again please', additional_kwargs={}, response_metadata={}, id='328adc3d-8c39-4312-952c-3d3b87d5f736'), AIMessage(content='', additional_kwargs={'tool_calls': [{'id': 'call_9xFtRNwSPl00BBRdY3VGdZ9Y', 'function': {'arguments': '{\"__arg1\":\"The current USD/GBP exchange rate is 0.78.\"}', 'name': 'send_push_notification'}, 'type': 'function'}], 'refusal': None}, response_metadata={'token_usage': {'completion_tokens': 30, 'prompt_tokens': 321, 'total_tokens': 351, 'completion_tokens_details': {'accepted_prediction_tokens': 0, 'audio_tokens': 0, 'reasoning_tokens': 0, 'rejected_prediction_tokens': 0}, 'prompt_tokens_details': {'audio_tokens': 0, 'cached_tokens': 0}}, 'model_name': 'gpt-4o-mini-2024-07-18', 'system_fingerprint': 'fp_b376dfbbd5', 'id': 'chatcmpl-BInTHUIOvZ0DAwfqnVlb1SRlaKHmH', 'finish_reason': 'tool_calls', 'logprobs': None}, id='run-a2225381-34da-44b4-9e8d-45a0b8c29693-0', tool_calls=[{'name': 'send_push_notification', 'args': {'__arg1': 'The current USD/GBP exchange rate is 0.78.'}, 'id': 'call_9xFtRNwSPl00BBRdY3VGdZ9Y', 'type': 'tool_call'}], usage_metadata={'input_tokens': 321, 'output_tokens': 30, 'total_tokens': 351, 'input_token_details': {'audio': 0, 'cache_read': 0}, 'output_token_details': {'audio': 0, 'reasoning': 0}}), ToolMessage(content='null', name='send_push_notification', id='433985ee-9eeb-4b4b-866e-23cfc0f8e9fb', tool_call_id='call_9xFtRNwSPl00BBRdY3VGdZ9Y'), AIMessage(content=\"I've sent the push notification again with the current USD/GBP exchange rate: 0.78. If there's anything else you need, feel free to ask!\", additional_kwargs={'refusal': None}, response_metadata={'token_usage': {'completion_tokens': 34, 'prompt_tokens': 360, 'total_tokens': 394, 'completion_tokens_details': {'accepted_prediction_tokens': 0, 'audio_tokens': 0, 'reasoning_tokens': 0, 'rejected_prediction_tokens': 0}, 'prompt_tokens_details': {'audio_tokens': 0, 'cached_tokens': 0}}, 'model_name': 'gpt-4o-mini-2024-07-18', 'system_fingerprint': 'fp_b376dfbbd5', 'id': 'chatcmpl-BInTJ24F3iaC2JFCLGFb715HxeWU9', 'finish_reason': 'stop', 'logprobs': None}, id='run-eda57a8e-26a4-4aed-a3c6-ce404e2d5cfa-0', usage_metadata={'input_tokens': 360, 'output_tokens': 34, 'total_tokens': 394, 'input_token_details': {'audio': 0, 'cache_read': 0}, 'output_token_details': {'audio': 0, 'reasoning': 0}}), HumanMessage(content='please send me a push notification about the currently sold switch 2 number', additional_kwargs={}, response_metadata={}, id='e50afff8-345c-49ce-91fd-abad3fd0f181'), AIMessage(content='', additional_kwargs={'tool_calls': [{'id': 'call_wbF7SVe6SECCKj90F44JFstP', 'function': {'arguments': '{\"__arg1\":\"current Nintendo Switch 2 sales numbers\"}', 'name': 'search'}, 'type': 'function'}], 'refusal': None}, response_metadata={'token_usage': {'completion_tokens': 21, 'prompt_tokens': 414, 'total_tokens': 435, 'completion_tokens_details': {'accepted_prediction_tokens': 0, 'audio_tokens': 0, 'reasoning_tokens': 0, 'rejected_prediction_tokens': 0}, 'prompt_tokens_details': {'audio_tokens': 0, 'cached_tokens': 0}}, 'model_name': 'gpt-4o-mini-2024-07-18', 'system_fingerprint': 'fp_34a54ae93c', 'id': 'chatcmpl-BgcOC7PhNvgHpKnRTQziX7RLTC3Uj', 'service_tier': 'default', 'finish_reason': 'tool_calls', 'logprobs': None}, id='run--2c0cc90a-1e33-4bb1-8547-e03cb95f492c-0', tool_calls=[{'name': 'search', 'args': {'__arg1': 'current Nintendo Switch 2 sales numbers'}, 'id': 'call_wbF7SVe6SECCKj90F44JFstP', 'type': 'tool_call'}], usage_metadata={'input_tokens': 414, 'output_tokens': 21, 'total_tokens': 435, 'input_token_details': {'audio': 0, 'cache_read': 0}, 'output_token_details': {'audio': 0, 'reasoning': 0}}), ToolMessage(content=\"Nintendo Switch 2 Shatters Console Launch Records with Over 3 Million Units Sold in a Day. The Nintendo Switch 2 is reportedly breaking sales records in just the first few days of its lifespan, at least according to industry ... Nintendo Switch 2 Has Record-Breaking Launch, Selling Over 3 Million Units. from the ready-to-Switch dept. TL;DR: The Nintendo Switch 2 has set a new record by selling over 3 million units within 24 hours, tripling the PlayStation 4's previous launch ... Patreon https://www.patreon.com/Nintendeen OR YouTube Membership https://www.youtube.com/channel/UC-vuyAjjilAgmvbY9rH-Qvg/join I upload ... Missing: current | Show results with:current. Nintendo DS: 154.02 million units · Nintendo Switch: 152.12 million units · Nintendo Wii: 101.63 million units · Game Boy: 118.69 million units ... Tried to look for a quick comparison for first week sales, got data here: https://sites.google.com/site/gamedatalibrary/hardware-comparer The Nintendo Switch 2 has set a new record by selling over 3 million units within 24 hours, tripling the PlayStation 4's previous launch day ... Nintendo last month forecast sales of 15 million Switch 2 units during the current financial year, as well as 4.5 million Switch units.\", name='search', id='94c37133-0d50-4b9f-a991-cbfe07f56eca', tool_call_id='call_wbF7SVe6SECCKj90F44JFstP')]}\n",
      "{'messages': [HumanMessage(content='hi there', additional_kwargs={}, response_metadata={}, id='d6144090-9963-438c-b21b-3fb4f06edbc0'), AIMessage(content='Hello! How can I assist you today?', additional_kwargs={'refusal': None}, response_metadata={'token_usage': {'completion_tokens': 11, 'prompt_tokens': 90, 'total_tokens': 101, 'completion_tokens_details': {'accepted_prediction_tokens': 0, 'audio_tokens': 0, 'reasoning_tokens': 0, 'rejected_prediction_tokens': 0}, 'prompt_tokens_details': {'audio_tokens': 0, 'cached_tokens': 0}}, 'model_name': 'gpt-4o-mini-2024-07-18', 'system_fingerprint': 'fp_b376dfbbd5', 'id': 'chatcmpl-BInN7JUnEYNTQqokCF3eihp5oKP0V', 'finish_reason': 'stop', 'logprobs': None}, id='run-4b488710-73ac-435e-a944-913a0c812d08-0', usage_metadata={'input_tokens': 90, 'output_tokens': 11, 'total_tokens': 101, 'input_token_details': {'audio': 0, 'cache_read': 0}, 'output_token_details': {'audio': 0, 'reasoning': 0}}), HumanMessage(content=\"what's my name\", additional_kwargs={}, response_metadata={}, id='0ee3236f-a0f8-487c-9e18-3a1a83e91d81'), AIMessage(content=\"I don't have access to personal information unless you provide it. What would you like me to call you?\", additional_kwargs={'refusal': None}, response_metadata={'token_usage': {'completion_tokens': 23, 'prompt_tokens': 111, 'total_tokens': 134, 'completion_tokens_details': {'accepted_prediction_tokens': 0, 'audio_tokens': 0, 'reasoning_tokens': 0, 'rejected_prediction_tokens': 0}, 'prompt_tokens_details': {'audio_tokens': 0, 'cached_tokens': 0}}, 'model_name': 'gpt-4o-mini-2024-07-18', 'system_fingerprint': 'fp_b376dfbbd5', 'id': 'chatcmpl-BInNEm0T32rf7Lx23sOvrcePfgL8d', 'finish_reason': 'stop', 'logprobs': None}, id='run-c12bd46c-0c94-475c-b281-89773b1947a2-0', usage_metadata={'input_tokens': 111, 'output_tokens': 23, 'total_tokens': 134, 'input_token_details': {'audio': 0, 'cache_read': 0}, 'output_token_details': {'audio': 0, 'reasoning': 0}}), HumanMessage(content=\"My name's Ed\", additional_kwargs={}, response_metadata={}, id='65e59191-b993-4faf-9699-197f70b79fcd'), AIMessage(content='Nice to meet you, Ed! How can I assist you today?', additional_kwargs={'refusal': None}, response_metadata={'token_usage': {'completion_tokens': 16, 'prompt_tokens': 144, 'total_tokens': 160, 'completion_tokens_details': {'accepted_prediction_tokens': 0, 'audio_tokens': 0, 'reasoning_tokens': 0, 'rejected_prediction_tokens': 0}, 'prompt_tokens_details': {'audio_tokens': 0, 'cached_tokens': 0}}, 'model_name': 'gpt-4o-mini-2024-07-18', 'system_fingerprint': 'fp_b376dfbbd5', 'id': 'chatcmpl-BInNLLW9Z5vrmr2MUfk6CLJBnCMOg', 'finish_reason': 'stop', 'logprobs': None}, id='run-68e08e4e-bc27-4802-b800-8fb359a5d976-0', usage_metadata={'input_tokens': 144, 'output_tokens': 16, 'total_tokens': 160, 'input_token_details': {'audio': 0, 'cache_read': 0}, 'output_token_details': {'audio': 0, 'reasoning': 0}}), HumanMessage(content='hi there', additional_kwargs={}, response_metadata={}, id='dfeeb914-53d6-404f-9a5c-0531f1fe43fe'), AIMessage(content='Hello again, Ed! How can I help you today?', additional_kwargs={'refusal': None}, response_metadata={'token_usage': {'completion_tokens': 14, 'prompt_tokens': 168, 'total_tokens': 182, 'completion_tokens_details': {'accepted_prediction_tokens': 0, 'audio_tokens': 0, 'reasoning_tokens': 0, 'rejected_prediction_tokens': 0}, 'prompt_tokens_details': {'audio_tokens': 0, 'cached_tokens': 0}}, 'model_name': 'gpt-4o-mini-2024-07-18', 'system_fingerprint': 'fp_b376dfbbd5', 'id': 'chatcmpl-BInOS7TKECQA9Trbcv3mBsxkVJ8c3', 'finish_reason': 'stop', 'logprobs': None}, id='run-8b9e7d2c-d34d-4d84-99d2-dcb6b26b84bf-0', usage_metadata={'input_tokens': 168, 'output_tokens': 14, 'total_tokens': 182, 'input_token_details': {'audio': 0, 'cache_read': 0}, 'output_token_details': {'audio': 0, 'reasoning': 0}}), HumanMessage(content='please send me a push notification with the current usd/gbp exchange rate', additional_kwargs={}, response_metadata={}, id='6e096518-8d44-40e9-8aba-bf5027dac79c'), AIMessage(content='', additional_kwargs={'tool_calls': [{'id': 'call_mFP2QpmSUYlvqjz3HBvRv0Cv', 'function': {'arguments': '{\"__arg1\":\"current USD to GBP exchange rate\"}', 'name': 'search'}, 'type': 'function'}], 'refusal': None}, response_metadata={'token_usage': {'completion_tokens': 21, 'prompt_tokens': 203, 'total_tokens': 224, 'completion_tokens_details': {'accepted_prediction_tokens': 0, 'audio_tokens': 0, 'reasoning_tokens': 0, 'rejected_prediction_tokens': 0}, 'prompt_tokens_details': {'audio_tokens': 0, 'cached_tokens': 0}}, 'model_name': 'gpt-4o-mini-2024-07-18', 'system_fingerprint': 'fp_b376dfbbd5', 'id': 'chatcmpl-BInShCTgCsggydsrv3MmpIXLyvzGF', 'finish_reason': 'tool_calls', 'logprobs': None}, id='run-1bc3e47d-30c5-40f4-a9da-42dd24e74732-0', tool_calls=[{'name': 'search', 'args': {'__arg1': 'current USD to GBP exchange rate'}, 'id': 'call_mFP2QpmSUYlvqjz3HBvRv0Cv', 'type': 'tool_call'}], usage_metadata={'input_tokens': 203, 'output_tokens': 21, 'total_tokens': 224, 'input_token_details': {'audio': 0, 'cache_read': 0}, 'output_token_details': {'audio': 0, 'reasoning': 0}}), ToolMessage(content='0.78 Pound sterling', name='search', id='04044643-e40a-4bda-a03c-bc80949d039c', tool_call_id='call_mFP2QpmSUYlvqjz3HBvRv0Cv'), AIMessage(content='', additional_kwargs={'tool_calls': [{'id': 'call_2RByu6cFdwow5BWX8eblN402', 'function': {'arguments': '{\"__arg1\":\"The current USD/GBP exchange rate is 0.78.\"}', 'name': 'send_push_notification'}, 'type': 'function'}], 'refusal': None}, response_metadata={'token_usage': {'completion_tokens': 30, 'prompt_tokens': 235, 'total_tokens': 265, 'completion_tokens_details': {'accepted_prediction_tokens': 0, 'audio_tokens': 0, 'reasoning_tokens': 0, 'rejected_prediction_tokens': 0}, 'prompt_tokens_details': {'audio_tokens': 0, 'cached_tokens': 0}}, 'model_name': 'gpt-4o-mini-2024-07-18', 'system_fingerprint': 'fp_b376dfbbd5', 'id': 'chatcmpl-BInSjgdmKJqByJ2VIxpCZE5vEQpep', 'finish_reason': 'tool_calls', 'logprobs': None}, id='run-030db0cd-4acc-4354-aa65-ae772d33be07-0', tool_calls=[{'name': 'send_push_notification', 'args': {'__arg1': 'The current USD/GBP exchange rate is 0.78.'}, 'id': 'call_2RByu6cFdwow5BWX8eblN402', 'type': 'tool_call'}], usage_metadata={'input_tokens': 235, 'output_tokens': 30, 'total_tokens': 265, 'input_token_details': {'audio': 0, 'cache_read': 0}, 'output_token_details': {'audio': 0, 'reasoning': 0}}), ToolMessage(content='null', name='send_push_notification', id='f16f6e9d-2d0e-4aca-991f-0d9fe7064574', tool_call_id='call_2RByu6cFdwow5BWX8eblN402'), AIMessage(content=\"I've sent you a push notification with the current USD/GBP exchange rate: 0.78. If you need anything else, just let me know!\", additional_kwargs={'refusal': None}, response_metadata={'token_usage': {'completion_tokens': 33, 'prompt_tokens': 274, 'total_tokens': 307, 'completion_tokens_details': {'accepted_prediction_tokens': 0, 'audio_tokens': 0, 'reasoning_tokens': 0, 'rejected_prediction_tokens': 0}, 'prompt_tokens_details': {'audio_tokens': 0, 'cached_tokens': 0}}, 'model_name': 'gpt-4o-mini-2024-07-18', 'system_fingerprint': 'fp_b376dfbbd5', 'id': 'chatcmpl-BInSk4W7o3wDEZhzLtixtWOVgEw4Y', 'finish_reason': 'stop', 'logprobs': None}, id='run-bc27a847-b5bf-4565-85af-8e3163f2c271-0', usage_metadata={'input_tokens': 274, 'output_tokens': 33, 'total_tokens': 307, 'input_token_details': {'audio': 0, 'cache_read': 0}, 'output_token_details': {'audio': 0, 'reasoning': 0}}), HumanMessage(content='can you send that push notification again please', additional_kwargs={}, response_metadata={}, id='328adc3d-8c39-4312-952c-3d3b87d5f736'), AIMessage(content='', additional_kwargs={'tool_calls': [{'id': 'call_9xFtRNwSPl00BBRdY3VGdZ9Y', 'function': {'arguments': '{\"__arg1\":\"The current USD/GBP exchange rate is 0.78.\"}', 'name': 'send_push_notification'}, 'type': 'function'}], 'refusal': None}, response_metadata={'token_usage': {'completion_tokens': 30, 'prompt_tokens': 321, 'total_tokens': 351, 'completion_tokens_details': {'accepted_prediction_tokens': 0, 'audio_tokens': 0, 'reasoning_tokens': 0, 'rejected_prediction_tokens': 0}, 'prompt_tokens_details': {'audio_tokens': 0, 'cached_tokens': 0}}, 'model_name': 'gpt-4o-mini-2024-07-18', 'system_fingerprint': 'fp_b376dfbbd5', 'id': 'chatcmpl-BInTHUIOvZ0DAwfqnVlb1SRlaKHmH', 'finish_reason': 'tool_calls', 'logprobs': None}, id='run-a2225381-34da-44b4-9e8d-45a0b8c29693-0', tool_calls=[{'name': 'send_push_notification', 'args': {'__arg1': 'The current USD/GBP exchange rate is 0.78.'}, 'id': 'call_9xFtRNwSPl00BBRdY3VGdZ9Y', 'type': 'tool_call'}], usage_metadata={'input_tokens': 321, 'output_tokens': 30, 'total_tokens': 351, 'input_token_details': {'audio': 0, 'cache_read': 0}, 'output_token_details': {'audio': 0, 'reasoning': 0}}), ToolMessage(content='null', name='send_push_notification', id='433985ee-9eeb-4b4b-866e-23cfc0f8e9fb', tool_call_id='call_9xFtRNwSPl00BBRdY3VGdZ9Y'), AIMessage(content=\"I've sent the push notification again with the current USD/GBP exchange rate: 0.78. If there's anything else you need, feel free to ask!\", additional_kwargs={'refusal': None}, response_metadata={'token_usage': {'completion_tokens': 34, 'prompt_tokens': 360, 'total_tokens': 394, 'completion_tokens_details': {'accepted_prediction_tokens': 0, 'audio_tokens': 0, 'reasoning_tokens': 0, 'rejected_prediction_tokens': 0}, 'prompt_tokens_details': {'audio_tokens': 0, 'cached_tokens': 0}}, 'model_name': 'gpt-4o-mini-2024-07-18', 'system_fingerprint': 'fp_b376dfbbd5', 'id': 'chatcmpl-BInTJ24F3iaC2JFCLGFb715HxeWU9', 'finish_reason': 'stop', 'logprobs': None}, id='run-eda57a8e-26a4-4aed-a3c6-ce404e2d5cfa-0', usage_metadata={'input_tokens': 360, 'output_tokens': 34, 'total_tokens': 394, 'input_token_details': {'audio': 0, 'cache_read': 0}, 'output_token_details': {'audio': 0, 'reasoning': 0}}), HumanMessage(content='please send me a push notification about the currently sold switch 2 number', additional_kwargs={}, response_metadata={}, id='e50afff8-345c-49ce-91fd-abad3fd0f181'), AIMessage(content='', additional_kwargs={'tool_calls': [{'id': 'call_wbF7SVe6SECCKj90F44JFstP', 'function': {'arguments': '{\"__arg1\":\"current Nintendo Switch 2 sales numbers\"}', 'name': 'search'}, 'type': 'function'}], 'refusal': None}, response_metadata={'token_usage': {'completion_tokens': 21, 'prompt_tokens': 414, 'total_tokens': 435, 'completion_tokens_details': {'accepted_prediction_tokens': 0, 'audio_tokens': 0, 'reasoning_tokens': 0, 'rejected_prediction_tokens': 0}, 'prompt_tokens_details': {'audio_tokens': 0, 'cached_tokens': 0}}, 'model_name': 'gpt-4o-mini-2024-07-18', 'system_fingerprint': 'fp_34a54ae93c', 'id': 'chatcmpl-BgcOC7PhNvgHpKnRTQziX7RLTC3Uj', 'service_tier': 'default', 'finish_reason': 'tool_calls', 'logprobs': None}, id='run--2c0cc90a-1e33-4bb1-8547-e03cb95f492c-0', tool_calls=[{'name': 'search', 'args': {'__arg1': 'current Nintendo Switch 2 sales numbers'}, 'id': 'call_wbF7SVe6SECCKj90F44JFstP', 'type': 'tool_call'}], usage_metadata={'input_tokens': 414, 'output_tokens': 21, 'total_tokens': 435, 'input_token_details': {'audio': 0, 'cache_read': 0}, 'output_token_details': {'audio': 0, 'reasoning': 0}}), ToolMessage(content=\"Nintendo Switch 2 Shatters Console Launch Records with Over 3 Million Units Sold in a Day. The Nintendo Switch 2 is reportedly breaking sales records in just the first few days of its lifespan, at least according to industry ... Nintendo Switch 2 Has Record-Breaking Launch, Selling Over 3 Million Units. from the ready-to-Switch dept. TL;DR: The Nintendo Switch 2 has set a new record by selling over 3 million units within 24 hours, tripling the PlayStation 4's previous launch ... Patreon https://www.patreon.com/Nintendeen OR YouTube Membership https://www.youtube.com/channel/UC-vuyAjjilAgmvbY9rH-Qvg/join I upload ... Missing: current | Show results with:current. Nintendo DS: 154.02 million units · Nintendo Switch: 152.12 million units · Nintendo Wii: 101.63 million units · Game Boy: 118.69 million units ... Tried to look for a quick comparison for first week sales, got data here: https://sites.google.com/site/gamedatalibrary/hardware-comparer The Nintendo Switch 2 has set a new record by selling over 3 million units within 24 hours, tripling the PlayStation 4's previous launch day ... Nintendo last month forecast sales of 15 million Switch 2 units during the current financial year, as well as 4.5 million Switch units.\", name='search', id='94c37133-0d50-4b9f-a991-cbfe07f56eca', tool_call_id='call_wbF7SVe6SECCKj90F44JFstP'), AIMessage(content='', additional_kwargs={'tool_calls': [{'id': 'call_qk5o4rfsKkPlx5nef2fJqIkp', 'function': {'arguments': '{\"__arg1\":\"The Nintendo Switch 2 has sold over 3 million units in just 24 hours, breaking launch records!\"}', 'name': 'send_push_notification'}, 'type': 'function'}], 'refusal': None}, response_metadata={'token_usage': {'completion_tokens': 38, 'prompt_tokens': 739, 'total_tokens': 777, 'completion_tokens_details': {'accepted_prediction_tokens': 0, 'audio_tokens': 0, 'reasoning_tokens': 0, 'rejected_prediction_tokens': 0}, 'prompt_tokens_details': {'audio_tokens': 0, 'cached_tokens': 0}}, 'model_name': 'gpt-4o-mini-2024-07-18', 'system_fingerprint': 'fp_34a54ae93c', 'id': 'chatcmpl-BgcOEeNe8VYM6Oge1ufcfdbSGt0W7', 'service_tier': 'default', 'finish_reason': 'tool_calls', 'logprobs': None}, id='run--54554976-a0fb-4eba-ad81-ad2bb0297c95-0', tool_calls=[{'name': 'send_push_notification', 'args': {'__arg1': 'The Nintendo Switch 2 has sold over 3 million units in just 24 hours, breaking launch records!'}, 'id': 'call_qk5o4rfsKkPlx5nef2fJqIkp', 'type': 'tool_call'}], usage_metadata={'input_tokens': 739, 'output_tokens': 38, 'total_tokens': 777, 'input_token_details': {'audio': 0, 'cache_read': 0}, 'output_token_details': {'audio': 0, 'reasoning': 0}}), ToolMessage(content='null', name='send_push_notification', id='c288ed98-bd3f-4e75-9f28-03f19792137c', tool_call_id='call_qk5o4rfsKkPlx5nef2fJqIkp')]}\n",
      "{'messages': [HumanMessage(content='hi there', additional_kwargs={}, response_metadata={}, id='d6144090-9963-438c-b21b-3fb4f06edbc0'), AIMessage(content='Hello! How can I assist you today?', additional_kwargs={'refusal': None}, response_metadata={'token_usage': {'completion_tokens': 11, 'prompt_tokens': 90, 'total_tokens': 101, 'completion_tokens_details': {'accepted_prediction_tokens': 0, 'audio_tokens': 0, 'reasoning_tokens': 0, 'rejected_prediction_tokens': 0}, 'prompt_tokens_details': {'audio_tokens': 0, 'cached_tokens': 0}}, 'model_name': 'gpt-4o-mini-2024-07-18', 'system_fingerprint': 'fp_b376dfbbd5', 'id': 'chatcmpl-BInN7JUnEYNTQqokCF3eihp5oKP0V', 'finish_reason': 'stop', 'logprobs': None}, id='run-4b488710-73ac-435e-a944-913a0c812d08-0', usage_metadata={'input_tokens': 90, 'output_tokens': 11, 'total_tokens': 101, 'input_token_details': {'audio': 0, 'cache_read': 0}, 'output_token_details': {'audio': 0, 'reasoning': 0}}), HumanMessage(content=\"what's my name\", additional_kwargs={}, response_metadata={}, id='0ee3236f-a0f8-487c-9e18-3a1a83e91d81'), AIMessage(content=\"I don't have access to personal information unless you provide it. What would you like me to call you?\", additional_kwargs={'refusal': None}, response_metadata={'token_usage': {'completion_tokens': 23, 'prompt_tokens': 111, 'total_tokens': 134, 'completion_tokens_details': {'accepted_prediction_tokens': 0, 'audio_tokens': 0, 'reasoning_tokens': 0, 'rejected_prediction_tokens': 0}, 'prompt_tokens_details': {'audio_tokens': 0, 'cached_tokens': 0}}, 'model_name': 'gpt-4o-mini-2024-07-18', 'system_fingerprint': 'fp_b376dfbbd5', 'id': 'chatcmpl-BInNEm0T32rf7Lx23sOvrcePfgL8d', 'finish_reason': 'stop', 'logprobs': None}, id='run-c12bd46c-0c94-475c-b281-89773b1947a2-0', usage_metadata={'input_tokens': 111, 'output_tokens': 23, 'total_tokens': 134, 'input_token_details': {'audio': 0, 'cache_read': 0}, 'output_token_details': {'audio': 0, 'reasoning': 0}}), HumanMessage(content=\"My name's Ed\", additional_kwargs={}, response_metadata={}, id='65e59191-b993-4faf-9699-197f70b79fcd'), AIMessage(content='Nice to meet you, Ed! How can I assist you today?', additional_kwargs={'refusal': None}, response_metadata={'token_usage': {'completion_tokens': 16, 'prompt_tokens': 144, 'total_tokens': 160, 'completion_tokens_details': {'accepted_prediction_tokens': 0, 'audio_tokens': 0, 'reasoning_tokens': 0, 'rejected_prediction_tokens': 0}, 'prompt_tokens_details': {'audio_tokens': 0, 'cached_tokens': 0}}, 'model_name': 'gpt-4o-mini-2024-07-18', 'system_fingerprint': 'fp_b376dfbbd5', 'id': 'chatcmpl-BInNLLW9Z5vrmr2MUfk6CLJBnCMOg', 'finish_reason': 'stop', 'logprobs': None}, id='run-68e08e4e-bc27-4802-b800-8fb359a5d976-0', usage_metadata={'input_tokens': 144, 'output_tokens': 16, 'total_tokens': 160, 'input_token_details': {'audio': 0, 'cache_read': 0}, 'output_token_details': {'audio': 0, 'reasoning': 0}}), HumanMessage(content='hi there', additional_kwargs={}, response_metadata={}, id='dfeeb914-53d6-404f-9a5c-0531f1fe43fe'), AIMessage(content='Hello again, Ed! How can I help you today?', additional_kwargs={'refusal': None}, response_metadata={'token_usage': {'completion_tokens': 14, 'prompt_tokens': 168, 'total_tokens': 182, 'completion_tokens_details': {'accepted_prediction_tokens': 0, 'audio_tokens': 0, 'reasoning_tokens': 0, 'rejected_prediction_tokens': 0}, 'prompt_tokens_details': {'audio_tokens': 0, 'cached_tokens': 0}}, 'model_name': 'gpt-4o-mini-2024-07-18', 'system_fingerprint': 'fp_b376dfbbd5', 'id': 'chatcmpl-BInOS7TKECQA9Trbcv3mBsxkVJ8c3', 'finish_reason': 'stop', 'logprobs': None}, id='run-8b9e7d2c-d34d-4d84-99d2-dcb6b26b84bf-0', usage_metadata={'input_tokens': 168, 'output_tokens': 14, 'total_tokens': 182, 'input_token_details': {'audio': 0, 'cache_read': 0}, 'output_token_details': {'audio': 0, 'reasoning': 0}}), HumanMessage(content='please send me a push notification with the current usd/gbp exchange rate', additional_kwargs={}, response_metadata={}, id='6e096518-8d44-40e9-8aba-bf5027dac79c'), AIMessage(content='', additional_kwargs={'tool_calls': [{'id': 'call_mFP2QpmSUYlvqjz3HBvRv0Cv', 'function': {'arguments': '{\"__arg1\":\"current USD to GBP exchange rate\"}', 'name': 'search'}, 'type': 'function'}], 'refusal': None}, response_metadata={'token_usage': {'completion_tokens': 21, 'prompt_tokens': 203, 'total_tokens': 224, 'completion_tokens_details': {'accepted_prediction_tokens': 0, 'audio_tokens': 0, 'reasoning_tokens': 0, 'rejected_prediction_tokens': 0}, 'prompt_tokens_details': {'audio_tokens': 0, 'cached_tokens': 0}}, 'model_name': 'gpt-4o-mini-2024-07-18', 'system_fingerprint': 'fp_b376dfbbd5', 'id': 'chatcmpl-BInShCTgCsggydsrv3MmpIXLyvzGF', 'finish_reason': 'tool_calls', 'logprobs': None}, id='run-1bc3e47d-30c5-40f4-a9da-42dd24e74732-0', tool_calls=[{'name': 'search', 'args': {'__arg1': 'current USD to GBP exchange rate'}, 'id': 'call_mFP2QpmSUYlvqjz3HBvRv0Cv', 'type': 'tool_call'}], usage_metadata={'input_tokens': 203, 'output_tokens': 21, 'total_tokens': 224, 'input_token_details': {'audio': 0, 'cache_read': 0}, 'output_token_details': {'audio': 0, 'reasoning': 0}}), ToolMessage(content='0.78 Pound sterling', name='search', id='04044643-e40a-4bda-a03c-bc80949d039c', tool_call_id='call_mFP2QpmSUYlvqjz3HBvRv0Cv'), AIMessage(content='', additional_kwargs={'tool_calls': [{'id': 'call_2RByu6cFdwow5BWX8eblN402', 'function': {'arguments': '{\"__arg1\":\"The current USD/GBP exchange rate is 0.78.\"}', 'name': 'send_push_notification'}, 'type': 'function'}], 'refusal': None}, response_metadata={'token_usage': {'completion_tokens': 30, 'prompt_tokens': 235, 'total_tokens': 265, 'completion_tokens_details': {'accepted_prediction_tokens': 0, 'audio_tokens': 0, 'reasoning_tokens': 0, 'rejected_prediction_tokens': 0}, 'prompt_tokens_details': {'audio_tokens': 0, 'cached_tokens': 0}}, 'model_name': 'gpt-4o-mini-2024-07-18', 'system_fingerprint': 'fp_b376dfbbd5', 'id': 'chatcmpl-BInSjgdmKJqByJ2VIxpCZE5vEQpep', 'finish_reason': 'tool_calls', 'logprobs': None}, id='run-030db0cd-4acc-4354-aa65-ae772d33be07-0', tool_calls=[{'name': 'send_push_notification', 'args': {'__arg1': 'The current USD/GBP exchange rate is 0.78.'}, 'id': 'call_2RByu6cFdwow5BWX8eblN402', 'type': 'tool_call'}], usage_metadata={'input_tokens': 235, 'output_tokens': 30, 'total_tokens': 265, 'input_token_details': {'audio': 0, 'cache_read': 0}, 'output_token_details': {'audio': 0, 'reasoning': 0}}), ToolMessage(content='null', name='send_push_notification', id='f16f6e9d-2d0e-4aca-991f-0d9fe7064574', tool_call_id='call_2RByu6cFdwow5BWX8eblN402'), AIMessage(content=\"I've sent you a push notification with the current USD/GBP exchange rate: 0.78. If you need anything else, just let me know!\", additional_kwargs={'refusal': None}, response_metadata={'token_usage': {'completion_tokens': 33, 'prompt_tokens': 274, 'total_tokens': 307, 'completion_tokens_details': {'accepted_prediction_tokens': 0, 'audio_tokens': 0, 'reasoning_tokens': 0, 'rejected_prediction_tokens': 0}, 'prompt_tokens_details': {'audio_tokens': 0, 'cached_tokens': 0}}, 'model_name': 'gpt-4o-mini-2024-07-18', 'system_fingerprint': 'fp_b376dfbbd5', 'id': 'chatcmpl-BInSk4W7o3wDEZhzLtixtWOVgEw4Y', 'finish_reason': 'stop', 'logprobs': None}, id='run-bc27a847-b5bf-4565-85af-8e3163f2c271-0', usage_metadata={'input_tokens': 274, 'output_tokens': 33, 'total_tokens': 307, 'input_token_details': {'audio': 0, 'cache_read': 0}, 'output_token_details': {'audio': 0, 'reasoning': 0}}), HumanMessage(content='can you send that push notification again please', additional_kwargs={}, response_metadata={}, id='328adc3d-8c39-4312-952c-3d3b87d5f736'), AIMessage(content='', additional_kwargs={'tool_calls': [{'id': 'call_9xFtRNwSPl00BBRdY3VGdZ9Y', 'function': {'arguments': '{\"__arg1\":\"The current USD/GBP exchange rate is 0.78.\"}', 'name': 'send_push_notification'}, 'type': 'function'}], 'refusal': None}, response_metadata={'token_usage': {'completion_tokens': 30, 'prompt_tokens': 321, 'total_tokens': 351, 'completion_tokens_details': {'accepted_prediction_tokens': 0, 'audio_tokens': 0, 'reasoning_tokens': 0, 'rejected_prediction_tokens': 0}, 'prompt_tokens_details': {'audio_tokens': 0, 'cached_tokens': 0}}, 'model_name': 'gpt-4o-mini-2024-07-18', 'system_fingerprint': 'fp_b376dfbbd5', 'id': 'chatcmpl-BInTHUIOvZ0DAwfqnVlb1SRlaKHmH', 'finish_reason': 'tool_calls', 'logprobs': None}, id='run-a2225381-34da-44b4-9e8d-45a0b8c29693-0', tool_calls=[{'name': 'send_push_notification', 'args': {'__arg1': 'The current USD/GBP exchange rate is 0.78.'}, 'id': 'call_9xFtRNwSPl00BBRdY3VGdZ9Y', 'type': 'tool_call'}], usage_metadata={'input_tokens': 321, 'output_tokens': 30, 'total_tokens': 351, 'input_token_details': {'audio': 0, 'cache_read': 0}, 'output_token_details': {'audio': 0, 'reasoning': 0}}), ToolMessage(content='null', name='send_push_notification', id='433985ee-9eeb-4b4b-866e-23cfc0f8e9fb', tool_call_id='call_9xFtRNwSPl00BBRdY3VGdZ9Y'), AIMessage(content=\"I've sent the push notification again with the current USD/GBP exchange rate: 0.78. If there's anything else you need, feel free to ask!\", additional_kwargs={'refusal': None}, response_metadata={'token_usage': {'completion_tokens': 34, 'prompt_tokens': 360, 'total_tokens': 394, 'completion_tokens_details': {'accepted_prediction_tokens': 0, 'audio_tokens': 0, 'reasoning_tokens': 0, 'rejected_prediction_tokens': 0}, 'prompt_tokens_details': {'audio_tokens': 0, 'cached_tokens': 0}}, 'model_name': 'gpt-4o-mini-2024-07-18', 'system_fingerprint': 'fp_b376dfbbd5', 'id': 'chatcmpl-BInTJ24F3iaC2JFCLGFb715HxeWU9', 'finish_reason': 'stop', 'logprobs': None}, id='run-eda57a8e-26a4-4aed-a3c6-ce404e2d5cfa-0', usage_metadata={'input_tokens': 360, 'output_tokens': 34, 'total_tokens': 394, 'input_token_details': {'audio': 0, 'cache_read': 0}, 'output_token_details': {'audio': 0, 'reasoning': 0}}), HumanMessage(content='please send me a push notification about the currently sold switch 2 number', additional_kwargs={}, response_metadata={}, id='e50afff8-345c-49ce-91fd-abad3fd0f181'), AIMessage(content='', additional_kwargs={'tool_calls': [{'id': 'call_wbF7SVe6SECCKj90F44JFstP', 'function': {'arguments': '{\"__arg1\":\"current Nintendo Switch 2 sales numbers\"}', 'name': 'search'}, 'type': 'function'}], 'refusal': None}, response_metadata={'token_usage': {'completion_tokens': 21, 'prompt_tokens': 414, 'total_tokens': 435, 'completion_tokens_details': {'accepted_prediction_tokens': 0, 'audio_tokens': 0, 'reasoning_tokens': 0, 'rejected_prediction_tokens': 0}, 'prompt_tokens_details': {'audio_tokens': 0, 'cached_tokens': 0}}, 'model_name': 'gpt-4o-mini-2024-07-18', 'system_fingerprint': 'fp_34a54ae93c', 'id': 'chatcmpl-BgcOC7PhNvgHpKnRTQziX7RLTC3Uj', 'service_tier': 'default', 'finish_reason': 'tool_calls', 'logprobs': None}, id='run--2c0cc90a-1e33-4bb1-8547-e03cb95f492c-0', tool_calls=[{'name': 'search', 'args': {'__arg1': 'current Nintendo Switch 2 sales numbers'}, 'id': 'call_wbF7SVe6SECCKj90F44JFstP', 'type': 'tool_call'}], usage_metadata={'input_tokens': 414, 'output_tokens': 21, 'total_tokens': 435, 'input_token_details': {'audio': 0, 'cache_read': 0}, 'output_token_details': {'audio': 0, 'reasoning': 0}}), ToolMessage(content=\"Nintendo Switch 2 Shatters Console Launch Records with Over 3 Million Units Sold in a Day. The Nintendo Switch 2 is reportedly breaking sales records in just the first few days of its lifespan, at least according to industry ... Nintendo Switch 2 Has Record-Breaking Launch, Selling Over 3 Million Units. from the ready-to-Switch dept. TL;DR: The Nintendo Switch 2 has set a new record by selling over 3 million units within 24 hours, tripling the PlayStation 4's previous launch ... Patreon https://www.patreon.com/Nintendeen OR YouTube Membership https://www.youtube.com/channel/UC-vuyAjjilAgmvbY9rH-Qvg/join I upload ... Missing: current | Show results with:current. Nintendo DS: 154.02 million units · Nintendo Switch: 152.12 million units · Nintendo Wii: 101.63 million units · Game Boy: 118.69 million units ... Tried to look for a quick comparison for first week sales, got data here: https://sites.google.com/site/gamedatalibrary/hardware-comparer The Nintendo Switch 2 has set a new record by selling over 3 million units within 24 hours, tripling the PlayStation 4's previous launch day ... Nintendo last month forecast sales of 15 million Switch 2 units during the current financial year, as well as 4.5 million Switch units.\", name='search', id='94c37133-0d50-4b9f-a991-cbfe07f56eca', tool_call_id='call_wbF7SVe6SECCKj90F44JFstP'), AIMessage(content='', additional_kwargs={'tool_calls': [{'id': 'call_qk5o4rfsKkPlx5nef2fJqIkp', 'function': {'arguments': '{\"__arg1\":\"The Nintendo Switch 2 has sold over 3 million units in just 24 hours, breaking launch records!\"}', 'name': 'send_push_notification'}, 'type': 'function'}], 'refusal': None}, response_metadata={'token_usage': {'completion_tokens': 38, 'prompt_tokens': 739, 'total_tokens': 777, 'completion_tokens_details': {'accepted_prediction_tokens': 0, 'audio_tokens': 0, 'reasoning_tokens': 0, 'rejected_prediction_tokens': 0}, 'prompt_tokens_details': {'audio_tokens': 0, 'cached_tokens': 0}}, 'model_name': 'gpt-4o-mini-2024-07-18', 'system_fingerprint': 'fp_34a54ae93c', 'id': 'chatcmpl-BgcOEeNe8VYM6Oge1ufcfdbSGt0W7', 'service_tier': 'default', 'finish_reason': 'tool_calls', 'logprobs': None}, id='run--54554976-a0fb-4eba-ad81-ad2bb0297c95-0', tool_calls=[{'name': 'send_push_notification', 'args': {'__arg1': 'The Nintendo Switch 2 has sold over 3 million units in just 24 hours, breaking launch records!'}, 'id': 'call_qk5o4rfsKkPlx5nef2fJqIkp', 'type': 'tool_call'}], usage_metadata={'input_tokens': 739, 'output_tokens': 38, 'total_tokens': 777, 'input_token_details': {'audio': 0, 'cache_read': 0}, 'output_token_details': {'audio': 0, 'reasoning': 0}}), ToolMessage(content='null', name='send_push_notification', id='c288ed98-bd3f-4e75-9f28-03f19792137c', tool_call_id='call_qk5o4rfsKkPlx5nef2fJqIkp'), AIMessage(content=\"I've sent you a push notification about the Nintendo Switch 2, which has sold over 3 million units in just 24 hours, breaking launch records! If there's anything else you need, just let me know!\", additional_kwargs={'refusal': None}, response_metadata={'token_usage': {'completion_tokens': 44, 'prompt_tokens': 787, 'total_tokens': 831, 'completion_tokens_details': {'accepted_prediction_tokens': 0, 'audio_tokens': 0, 'reasoning_tokens': 0, 'rejected_prediction_tokens': 0}, 'prompt_tokens_details': {'audio_tokens': 0, 'cached_tokens': 0}}, 'model_name': 'gpt-4o-mini-2024-07-18', 'system_fingerprint': 'fp_34a54ae93c', 'id': 'chatcmpl-BgcOH0bkbU15QPcerI5KCBUL6QUce', 'service_tier': 'default', 'finish_reason': 'stop', 'logprobs': None}, id='run--855796b0-c2c0-40aa-9c7f-2dd8dc61b31a-0', usage_metadata={'input_tokens': 787, 'output_tokens': 44, 'total_tokens': 831, 'input_token_details': {'audio': 0, 'cache_read': 0}, 'output_token_details': {'audio': 0, 'reasoning': 0}}), HumanMessage(content='can you send me the push notification again?', additional_kwargs={}, response_metadata={}, id='b53cb60b-b531-4c54-98dd-2e8403319fbd')]}\n",
      "{'messages': [HumanMessage(content='hi there', additional_kwargs={}, response_metadata={}, id='d6144090-9963-438c-b21b-3fb4f06edbc0'), AIMessage(content='Hello! How can I assist you today?', additional_kwargs={'refusal': None}, response_metadata={'token_usage': {'completion_tokens': 11, 'prompt_tokens': 90, 'total_tokens': 101, 'completion_tokens_details': {'accepted_prediction_tokens': 0, 'audio_tokens': 0, 'reasoning_tokens': 0, 'rejected_prediction_tokens': 0}, 'prompt_tokens_details': {'audio_tokens': 0, 'cached_tokens': 0}}, 'model_name': 'gpt-4o-mini-2024-07-18', 'system_fingerprint': 'fp_b376dfbbd5', 'id': 'chatcmpl-BInN7JUnEYNTQqokCF3eihp5oKP0V', 'finish_reason': 'stop', 'logprobs': None}, id='run-4b488710-73ac-435e-a944-913a0c812d08-0', usage_metadata={'input_tokens': 90, 'output_tokens': 11, 'total_tokens': 101, 'input_token_details': {'audio': 0, 'cache_read': 0}, 'output_token_details': {'audio': 0, 'reasoning': 0}}), HumanMessage(content=\"what's my name\", additional_kwargs={}, response_metadata={}, id='0ee3236f-a0f8-487c-9e18-3a1a83e91d81'), AIMessage(content=\"I don't have access to personal information unless you provide it. What would you like me to call you?\", additional_kwargs={'refusal': None}, response_metadata={'token_usage': {'completion_tokens': 23, 'prompt_tokens': 111, 'total_tokens': 134, 'completion_tokens_details': {'accepted_prediction_tokens': 0, 'audio_tokens': 0, 'reasoning_tokens': 0, 'rejected_prediction_tokens': 0}, 'prompt_tokens_details': {'audio_tokens': 0, 'cached_tokens': 0}}, 'model_name': 'gpt-4o-mini-2024-07-18', 'system_fingerprint': 'fp_b376dfbbd5', 'id': 'chatcmpl-BInNEm0T32rf7Lx23sOvrcePfgL8d', 'finish_reason': 'stop', 'logprobs': None}, id='run-c12bd46c-0c94-475c-b281-89773b1947a2-0', usage_metadata={'input_tokens': 111, 'output_tokens': 23, 'total_tokens': 134, 'input_token_details': {'audio': 0, 'cache_read': 0}, 'output_token_details': {'audio': 0, 'reasoning': 0}}), HumanMessage(content=\"My name's Ed\", additional_kwargs={}, response_metadata={}, id='65e59191-b993-4faf-9699-197f70b79fcd'), AIMessage(content='Nice to meet you, Ed! How can I assist you today?', additional_kwargs={'refusal': None}, response_metadata={'token_usage': {'completion_tokens': 16, 'prompt_tokens': 144, 'total_tokens': 160, 'completion_tokens_details': {'accepted_prediction_tokens': 0, 'audio_tokens': 0, 'reasoning_tokens': 0, 'rejected_prediction_tokens': 0}, 'prompt_tokens_details': {'audio_tokens': 0, 'cached_tokens': 0}}, 'model_name': 'gpt-4o-mini-2024-07-18', 'system_fingerprint': 'fp_b376dfbbd5', 'id': 'chatcmpl-BInNLLW9Z5vrmr2MUfk6CLJBnCMOg', 'finish_reason': 'stop', 'logprobs': None}, id='run-68e08e4e-bc27-4802-b800-8fb359a5d976-0', usage_metadata={'input_tokens': 144, 'output_tokens': 16, 'total_tokens': 160, 'input_token_details': {'audio': 0, 'cache_read': 0}, 'output_token_details': {'audio': 0, 'reasoning': 0}}), HumanMessage(content='hi there', additional_kwargs={}, response_metadata={}, id='dfeeb914-53d6-404f-9a5c-0531f1fe43fe'), AIMessage(content='Hello again, Ed! How can I help you today?', additional_kwargs={'refusal': None}, response_metadata={'token_usage': {'completion_tokens': 14, 'prompt_tokens': 168, 'total_tokens': 182, 'completion_tokens_details': {'accepted_prediction_tokens': 0, 'audio_tokens': 0, 'reasoning_tokens': 0, 'rejected_prediction_tokens': 0}, 'prompt_tokens_details': {'audio_tokens': 0, 'cached_tokens': 0}}, 'model_name': 'gpt-4o-mini-2024-07-18', 'system_fingerprint': 'fp_b376dfbbd5', 'id': 'chatcmpl-BInOS7TKECQA9Trbcv3mBsxkVJ8c3', 'finish_reason': 'stop', 'logprobs': None}, id='run-8b9e7d2c-d34d-4d84-99d2-dcb6b26b84bf-0', usage_metadata={'input_tokens': 168, 'output_tokens': 14, 'total_tokens': 182, 'input_token_details': {'audio': 0, 'cache_read': 0}, 'output_token_details': {'audio': 0, 'reasoning': 0}}), HumanMessage(content='please send me a push notification with the current usd/gbp exchange rate', additional_kwargs={}, response_metadata={}, id='6e096518-8d44-40e9-8aba-bf5027dac79c'), AIMessage(content='', additional_kwargs={'tool_calls': [{'id': 'call_mFP2QpmSUYlvqjz3HBvRv0Cv', 'function': {'arguments': '{\"__arg1\":\"current USD to GBP exchange rate\"}', 'name': 'search'}, 'type': 'function'}], 'refusal': None}, response_metadata={'token_usage': {'completion_tokens': 21, 'prompt_tokens': 203, 'total_tokens': 224, 'completion_tokens_details': {'accepted_prediction_tokens': 0, 'audio_tokens': 0, 'reasoning_tokens': 0, 'rejected_prediction_tokens': 0}, 'prompt_tokens_details': {'audio_tokens': 0, 'cached_tokens': 0}}, 'model_name': 'gpt-4o-mini-2024-07-18', 'system_fingerprint': 'fp_b376dfbbd5', 'id': 'chatcmpl-BInShCTgCsggydsrv3MmpIXLyvzGF', 'finish_reason': 'tool_calls', 'logprobs': None}, id='run-1bc3e47d-30c5-40f4-a9da-42dd24e74732-0', tool_calls=[{'name': 'search', 'args': {'__arg1': 'current USD to GBP exchange rate'}, 'id': 'call_mFP2QpmSUYlvqjz3HBvRv0Cv', 'type': 'tool_call'}], usage_metadata={'input_tokens': 203, 'output_tokens': 21, 'total_tokens': 224, 'input_token_details': {'audio': 0, 'cache_read': 0}, 'output_token_details': {'audio': 0, 'reasoning': 0}}), ToolMessage(content='0.78 Pound sterling', name='search', id='04044643-e40a-4bda-a03c-bc80949d039c', tool_call_id='call_mFP2QpmSUYlvqjz3HBvRv0Cv'), AIMessage(content='', additional_kwargs={'tool_calls': [{'id': 'call_2RByu6cFdwow5BWX8eblN402', 'function': {'arguments': '{\"__arg1\":\"The current USD/GBP exchange rate is 0.78.\"}', 'name': 'send_push_notification'}, 'type': 'function'}], 'refusal': None}, response_metadata={'token_usage': {'completion_tokens': 30, 'prompt_tokens': 235, 'total_tokens': 265, 'completion_tokens_details': {'accepted_prediction_tokens': 0, 'audio_tokens': 0, 'reasoning_tokens': 0, 'rejected_prediction_tokens': 0}, 'prompt_tokens_details': {'audio_tokens': 0, 'cached_tokens': 0}}, 'model_name': 'gpt-4o-mini-2024-07-18', 'system_fingerprint': 'fp_b376dfbbd5', 'id': 'chatcmpl-BInSjgdmKJqByJ2VIxpCZE5vEQpep', 'finish_reason': 'tool_calls', 'logprobs': None}, id='run-030db0cd-4acc-4354-aa65-ae772d33be07-0', tool_calls=[{'name': 'send_push_notification', 'args': {'__arg1': 'The current USD/GBP exchange rate is 0.78.'}, 'id': 'call_2RByu6cFdwow5BWX8eblN402', 'type': 'tool_call'}], usage_metadata={'input_tokens': 235, 'output_tokens': 30, 'total_tokens': 265, 'input_token_details': {'audio': 0, 'cache_read': 0}, 'output_token_details': {'audio': 0, 'reasoning': 0}}), ToolMessage(content='null', name='send_push_notification', id='f16f6e9d-2d0e-4aca-991f-0d9fe7064574', tool_call_id='call_2RByu6cFdwow5BWX8eblN402'), AIMessage(content=\"I've sent you a push notification with the current USD/GBP exchange rate: 0.78. If you need anything else, just let me know!\", additional_kwargs={'refusal': None}, response_metadata={'token_usage': {'completion_tokens': 33, 'prompt_tokens': 274, 'total_tokens': 307, 'completion_tokens_details': {'accepted_prediction_tokens': 0, 'audio_tokens': 0, 'reasoning_tokens': 0, 'rejected_prediction_tokens': 0}, 'prompt_tokens_details': {'audio_tokens': 0, 'cached_tokens': 0}}, 'model_name': 'gpt-4o-mini-2024-07-18', 'system_fingerprint': 'fp_b376dfbbd5', 'id': 'chatcmpl-BInSk4W7o3wDEZhzLtixtWOVgEw4Y', 'finish_reason': 'stop', 'logprobs': None}, id='run-bc27a847-b5bf-4565-85af-8e3163f2c271-0', usage_metadata={'input_tokens': 274, 'output_tokens': 33, 'total_tokens': 307, 'input_token_details': {'audio': 0, 'cache_read': 0}, 'output_token_details': {'audio': 0, 'reasoning': 0}}), HumanMessage(content='can you send that push notification again please', additional_kwargs={}, response_metadata={}, id='328adc3d-8c39-4312-952c-3d3b87d5f736'), AIMessage(content='', additional_kwargs={'tool_calls': [{'id': 'call_9xFtRNwSPl00BBRdY3VGdZ9Y', 'function': {'arguments': '{\"__arg1\":\"The current USD/GBP exchange rate is 0.78.\"}', 'name': 'send_push_notification'}, 'type': 'function'}], 'refusal': None}, response_metadata={'token_usage': {'completion_tokens': 30, 'prompt_tokens': 321, 'total_tokens': 351, 'completion_tokens_details': {'accepted_prediction_tokens': 0, 'audio_tokens': 0, 'reasoning_tokens': 0, 'rejected_prediction_tokens': 0}, 'prompt_tokens_details': {'audio_tokens': 0, 'cached_tokens': 0}}, 'model_name': 'gpt-4o-mini-2024-07-18', 'system_fingerprint': 'fp_b376dfbbd5', 'id': 'chatcmpl-BInTHUIOvZ0DAwfqnVlb1SRlaKHmH', 'finish_reason': 'tool_calls', 'logprobs': None}, id='run-a2225381-34da-44b4-9e8d-45a0b8c29693-0', tool_calls=[{'name': 'send_push_notification', 'args': {'__arg1': 'The current USD/GBP exchange rate is 0.78.'}, 'id': 'call_9xFtRNwSPl00BBRdY3VGdZ9Y', 'type': 'tool_call'}], usage_metadata={'input_tokens': 321, 'output_tokens': 30, 'total_tokens': 351, 'input_token_details': {'audio': 0, 'cache_read': 0}, 'output_token_details': {'audio': 0, 'reasoning': 0}}), ToolMessage(content='null', name='send_push_notification', id='433985ee-9eeb-4b4b-866e-23cfc0f8e9fb', tool_call_id='call_9xFtRNwSPl00BBRdY3VGdZ9Y'), AIMessage(content=\"I've sent the push notification again with the current USD/GBP exchange rate: 0.78. If there's anything else you need, feel free to ask!\", additional_kwargs={'refusal': None}, response_metadata={'token_usage': {'completion_tokens': 34, 'prompt_tokens': 360, 'total_tokens': 394, 'completion_tokens_details': {'accepted_prediction_tokens': 0, 'audio_tokens': 0, 'reasoning_tokens': 0, 'rejected_prediction_tokens': 0}, 'prompt_tokens_details': {'audio_tokens': 0, 'cached_tokens': 0}}, 'model_name': 'gpt-4o-mini-2024-07-18', 'system_fingerprint': 'fp_b376dfbbd5', 'id': 'chatcmpl-BInTJ24F3iaC2JFCLGFb715HxeWU9', 'finish_reason': 'stop', 'logprobs': None}, id='run-eda57a8e-26a4-4aed-a3c6-ce404e2d5cfa-0', usage_metadata={'input_tokens': 360, 'output_tokens': 34, 'total_tokens': 394, 'input_token_details': {'audio': 0, 'cache_read': 0}, 'output_token_details': {'audio': 0, 'reasoning': 0}}), HumanMessage(content='please send me a push notification about the currently sold switch 2 number', additional_kwargs={}, response_metadata={}, id='e50afff8-345c-49ce-91fd-abad3fd0f181'), AIMessage(content='', additional_kwargs={'tool_calls': [{'id': 'call_wbF7SVe6SECCKj90F44JFstP', 'function': {'arguments': '{\"__arg1\":\"current Nintendo Switch 2 sales numbers\"}', 'name': 'search'}, 'type': 'function'}], 'refusal': None}, response_metadata={'token_usage': {'completion_tokens': 21, 'prompt_tokens': 414, 'total_tokens': 435, 'completion_tokens_details': {'accepted_prediction_tokens': 0, 'audio_tokens': 0, 'reasoning_tokens': 0, 'rejected_prediction_tokens': 0}, 'prompt_tokens_details': {'audio_tokens': 0, 'cached_tokens': 0}}, 'model_name': 'gpt-4o-mini-2024-07-18', 'system_fingerprint': 'fp_34a54ae93c', 'id': 'chatcmpl-BgcOC7PhNvgHpKnRTQziX7RLTC3Uj', 'service_tier': 'default', 'finish_reason': 'tool_calls', 'logprobs': None}, id='run--2c0cc90a-1e33-4bb1-8547-e03cb95f492c-0', tool_calls=[{'name': 'search', 'args': {'__arg1': 'current Nintendo Switch 2 sales numbers'}, 'id': 'call_wbF7SVe6SECCKj90F44JFstP', 'type': 'tool_call'}], usage_metadata={'input_tokens': 414, 'output_tokens': 21, 'total_tokens': 435, 'input_token_details': {'audio': 0, 'cache_read': 0}, 'output_token_details': {'audio': 0, 'reasoning': 0}}), ToolMessage(content=\"Nintendo Switch 2 Shatters Console Launch Records with Over 3 Million Units Sold in a Day. The Nintendo Switch 2 is reportedly breaking sales records in just the first few days of its lifespan, at least according to industry ... Nintendo Switch 2 Has Record-Breaking Launch, Selling Over 3 Million Units. from the ready-to-Switch dept. TL;DR: The Nintendo Switch 2 has set a new record by selling over 3 million units within 24 hours, tripling the PlayStation 4's previous launch ... Patreon https://www.patreon.com/Nintendeen OR YouTube Membership https://www.youtube.com/channel/UC-vuyAjjilAgmvbY9rH-Qvg/join I upload ... Missing: current | Show results with:current. Nintendo DS: 154.02 million units · Nintendo Switch: 152.12 million units · Nintendo Wii: 101.63 million units · Game Boy: 118.69 million units ... Tried to look for a quick comparison for first week sales, got data here: https://sites.google.com/site/gamedatalibrary/hardware-comparer The Nintendo Switch 2 has set a new record by selling over 3 million units within 24 hours, tripling the PlayStation 4's previous launch day ... Nintendo last month forecast sales of 15 million Switch 2 units during the current financial year, as well as 4.5 million Switch units.\", name='search', id='94c37133-0d50-4b9f-a991-cbfe07f56eca', tool_call_id='call_wbF7SVe6SECCKj90F44JFstP'), AIMessage(content='', additional_kwargs={'tool_calls': [{'id': 'call_qk5o4rfsKkPlx5nef2fJqIkp', 'function': {'arguments': '{\"__arg1\":\"The Nintendo Switch 2 has sold over 3 million units in just 24 hours, breaking launch records!\"}', 'name': 'send_push_notification'}, 'type': 'function'}], 'refusal': None}, response_metadata={'token_usage': {'completion_tokens': 38, 'prompt_tokens': 739, 'total_tokens': 777, 'completion_tokens_details': {'accepted_prediction_tokens': 0, 'audio_tokens': 0, 'reasoning_tokens': 0, 'rejected_prediction_tokens': 0}, 'prompt_tokens_details': {'audio_tokens': 0, 'cached_tokens': 0}}, 'model_name': 'gpt-4o-mini-2024-07-18', 'system_fingerprint': 'fp_34a54ae93c', 'id': 'chatcmpl-BgcOEeNe8VYM6Oge1ufcfdbSGt0W7', 'service_tier': 'default', 'finish_reason': 'tool_calls', 'logprobs': None}, id='run--54554976-a0fb-4eba-ad81-ad2bb0297c95-0', tool_calls=[{'name': 'send_push_notification', 'args': {'__arg1': 'The Nintendo Switch 2 has sold over 3 million units in just 24 hours, breaking launch records!'}, 'id': 'call_qk5o4rfsKkPlx5nef2fJqIkp', 'type': 'tool_call'}], usage_metadata={'input_tokens': 739, 'output_tokens': 38, 'total_tokens': 777, 'input_token_details': {'audio': 0, 'cache_read': 0}, 'output_token_details': {'audio': 0, 'reasoning': 0}}), ToolMessage(content='null', name='send_push_notification', id='c288ed98-bd3f-4e75-9f28-03f19792137c', tool_call_id='call_qk5o4rfsKkPlx5nef2fJqIkp'), AIMessage(content=\"I've sent you a push notification about the Nintendo Switch 2, which has sold over 3 million units in just 24 hours, breaking launch records! If there's anything else you need, just let me know!\", additional_kwargs={'refusal': None}, response_metadata={'token_usage': {'completion_tokens': 44, 'prompt_tokens': 787, 'total_tokens': 831, 'completion_tokens_details': {'accepted_prediction_tokens': 0, 'audio_tokens': 0, 'reasoning_tokens': 0, 'rejected_prediction_tokens': 0}, 'prompt_tokens_details': {'audio_tokens': 0, 'cached_tokens': 0}}, 'model_name': 'gpt-4o-mini-2024-07-18', 'system_fingerprint': 'fp_34a54ae93c', 'id': 'chatcmpl-BgcOH0bkbU15QPcerI5KCBUL6QUce', 'service_tier': 'default', 'finish_reason': 'stop', 'logprobs': None}, id='run--855796b0-c2c0-40aa-9c7f-2dd8dc61b31a-0', usage_metadata={'input_tokens': 787, 'output_tokens': 44, 'total_tokens': 831, 'input_token_details': {'audio': 0, 'cache_read': 0}, 'output_token_details': {'audio': 0, 'reasoning': 0}}), HumanMessage(content='can you send me the push notification again?', additional_kwargs={}, response_metadata={}, id='b53cb60b-b531-4c54-98dd-2e8403319fbd'), AIMessage(content='', additional_kwargs={'tool_calls': [{'id': 'call_vtA5ckKUhf3J0glRkSUjb0xR', 'function': {'arguments': '{\"__arg1\":\"The Nintendo Switch 2 has sold over 3 million units in just 24 hours, breaking launch records!\"}', 'name': 'send_push_notification'}, 'type': 'function'}], 'refusal': None}, response_metadata={'token_usage': {'completion_tokens': 38, 'prompt_tokens': 847, 'total_tokens': 885, 'completion_tokens_details': {'accepted_prediction_tokens': 0, 'audio_tokens': 0, 'reasoning_tokens': 0, 'rejected_prediction_tokens': 0}, 'prompt_tokens_details': {'audio_tokens': 0, 'cached_tokens': 0}}, 'model_name': 'gpt-4o-mini-2024-07-18', 'system_fingerprint': 'fp_34a54ae93c', 'id': 'chatcmpl-BgcOvh7ieUwTTwYJ0DVXDjhVkzTgY', 'service_tier': 'default', 'finish_reason': 'tool_calls', 'logprobs': None}, id='run--33d2c4a6-d9d3-4f10-a747-309f49601b6d-0', tool_calls=[{'name': 'send_push_notification', 'args': {'__arg1': 'The Nintendo Switch 2 has sold over 3 million units in just 24 hours, breaking launch records!'}, 'id': 'call_vtA5ckKUhf3J0glRkSUjb0xR', 'type': 'tool_call'}], usage_metadata={'input_tokens': 847, 'output_tokens': 38, 'total_tokens': 885, 'input_token_details': {'audio': 0, 'cache_read': 0}, 'output_token_details': {'audio': 0, 'reasoning': 0}}), ToolMessage(content='null', name='send_push_notification', id='8139086b-109f-4eb3-bdf4-8759f711b7c3', tool_call_id='call_vtA5ckKUhf3J0glRkSUjb0xR')]}\n"
     ]
    }
   ],
   "source": [
    "config = {\"configurable\": {\"thread_id\": \"3\"}}\n",
    "\n",
    "def chat(user_input: str, history):\n",
    "    result = graph.invoke({\"messages\": [{\"role\": \"user\", \"content\": user_input}]}, config=config)\n",
    "    return result[\"messages\"][-1].content\n",
    "\n",
    "\n",
    "gr.ChatInterface(chat, type=\"messages\").launch()"
   ]
  },
  {
   "cell_type": "code",
   "execution_count": null,
   "metadata": {},
   "outputs": [],
   "source": []
  }
 ],
 "metadata": {
  "kernelspec": {
   "display_name": ".venv",
   "language": "python",
   "name": "python3"
  },
  "language_info": {
   "codemirror_mode": {
    "name": "ipython",
    "version": 3
   },
   "file_extension": ".py",
   "mimetype": "text/x-python",
   "name": "python",
   "nbconvert_exporter": "python",
   "pygments_lexer": "ipython3",
   "version": "3.12.10"
  }
 },
 "nbformat": 4,
 "nbformat_minor": 2
}
