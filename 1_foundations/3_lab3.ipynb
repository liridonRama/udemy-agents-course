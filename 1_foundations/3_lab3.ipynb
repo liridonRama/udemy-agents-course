{
 "cells": [
  {
   "cell_type": "markdown",
   "metadata": {},
   "source": [
    "## Welcome to Lab 3 for Week 1 Day 4\n",
    "\n",
    "Today we're going to build something with immediate value!\n",
    "\n",
    "In the folder `me` I've put a single file `linkedin.pdf` - it's a PDF download of my LinkedIn profile.\n",
    "\n",
    "Please replace it with yours!\n",
    "\n",
    "I've also made a file called `summary.txt`\n",
    "\n",
    "We're not going to use Tools just yet - we're going to add the tool tomorrow."
   ]
  },
  {
   "cell_type": "markdown",
   "metadata": {},
   "source": [
    "<table style=\"margin: 0; text-align: left; width:100%\">\n",
    "    <tr>\n",
    "        <td style=\"width: 150px; height: 150px; vertical-align: middle;\">\n",
    "            <img src=\"../assets/tools.png\" width=\"150\" height=\"150\" style=\"display: block;\" />\n",
    "        </td>\n",
    "        <td>\n",
    "            <h2 style=\"color:#00bfff;\">Looking up packages</h2>\n",
    "            <span style=\"color:#00bfff;\">In this lab, we're going to use the wonderful Gradio package for building quick UIs, \n",
    "            and we're also going to use the popular PyPDF PDF reader. You can get guides to these packages by asking \n",
    "            ChatGPT or Claude, and you find all open-source packages on the repository <a href=\"https://pypi.org\">https://pypi.org</a>.\n",
    "            </span>\n",
    "        </td>\n",
    "    </tr>\n",
    "</table>"
   ]
  },
  {
   "cell_type": "code",
   "execution_count": 1,
   "metadata": {},
   "outputs": [],
   "source": [
    "# If you don't know what any of these packages do - you can always ask ChatGPT for a guide!\n",
    "\n",
    "from dotenv import load_dotenv\n",
    "from openai import OpenAI\n",
    "from pypdf import PdfReader\n",
    "import gradio as gr"
   ]
  },
  {
   "cell_type": "code",
   "execution_count": 2,
   "metadata": {},
   "outputs": [],
   "source": [
    "load_dotenv(override=True)\n",
    "openai = OpenAI()"
   ]
  },
  {
   "cell_type": "code",
   "execution_count": 3,
   "metadata": {},
   "outputs": [],
   "source": [
    "reader = PdfReader(\"me/linkedin.pdf\")\n",
    "linkedin = \"\"\n",
    "for page in reader.pages:\n",
    "    text = page.extract_text()\n",
    "    if text:\n",
    "        linkedin += text"
   ]
  },
  {
   "cell_type": "code",
   "execution_count": 4,
   "metadata": {},
   "outputs": [
    {
     "name": "stdout",
     "output_type": "stream",
     "text": [
      "        P ersonal Information\n",
      "\n",
      "Name: \tLiridon Rama\n",
      "\n",
      "Addr ess:  4332 Stein (A G), CH\n",
      "Mobile:\t+41 79 947 43 28\n",
      "Email:\tliridon.r ama.ch@gmail.com\t\n",
      "D .O .B.:\t27 September 1990\n",
      "Nationality:\tSwiss\n",
      "Link edIn: \thttps:/ /www .link edin.com/in/liridon-r ama/\n",
      "        Skills\n",
      "\n",
      "Cloud & De vOps: A WS/A zur e/GCP ,  Dock er/K ubernetes, T err aform, Ansible, Linux (Ubuntu/\n",
      "CentOS), Helm, GitHub/GitLab CI/CD ,  Ser v erless (A WS Lambda/A zur e F unctions), Nginx/\n",
      "T r aefik\n",
      "Pr ogr amming: T ypeScript, P ython, Go, Rust, Bash\n",
      "W eb De v elopment: Node.js (Expr ess/Nest.js), Angular/Next.js, H TML5/CSS3 (SCSS/T ailwind), \n",
      "REST/Gr aphQL, J AM/MERN Stacks\n",
      "Databases: P ostgr eSQL/MySQL, MongoDB, Redis\n",
      "Security: I AM (A WS/A zur e), O A uth 2.0, SSL/TLS, Snyk/SonarQube\n",
      "T esting: Jest/Vitest, Pla ywright\n",
      "Enterprise & Low-Code T ools: Z uor a, Camunda, UiBak er y , Dynamics 365, Salesfor ce\n",
      "T ools & Pr actices: SCRUM/KANBAN, Jir a/Confluence, Git, Gr afana/Pr ometheus\n",
      "Ar chitectur e: Micr oser vices, E v ent-Driv en Design, Containerization\n",
      "        T op  Skill \n",
      "Back end De v elopmen\n",
      "Softwar e Ar chitectur \n",
      "F r ontend De v elopmen\n",
      "Requir ements Engineerin\n",
      "I T  Consultin\n",
      "Management\n",
      "        W or k Exper i ence\n",
      "\n",
      "0 1 /2023 —  Curr ent    Cly de Mobility A G:   Senior Softwar e Enginee r\n",
      "02/202 1  —  1 2/2022  BeeBase GmbH:       Senior Softwar e Enginee r\n",
      "0 7 /20 19  —  1 2/2020 \t  jacando A G:              Softwar e Engineering Manage r\n",
      "05/20 18  —  06/20 19  \tjacando A G:              T echnical Pr oduct Manage r\n",
      "03/20 17  —  03/20 18\t  Swisscom A G:          Application Manager &  Pr oject Leader\n",
      "        E ducation\n",
      "\n",
      "09/2015 — 08/2017\n",
      "FHNW Switz erland\n",
      "BSc in Business Information \n",
      "T echnology\n",
      "\n",
      "09/2012 — 07/2015\n",
      "FHNW Switz erland\n",
      "BSc in Engineering and \n",
      "Management\n",
      "        Goals     \n",
      "\n",
      "1. PSM 1 Cer tificate\n",
      "2. IREB F oundation Le v el\n",
      "3. SAA-C02 Cer tificate\n",
      "4. Solution Ar chitect\n",
      "\n",
      "\n",
      "\n",
      "        Languages\n",
      "\n",
      "G er man: N ativ e\n",
      "E n gl is h : E x cellen t\n",
      "        Hobbies\n",
      "\n",
      "Reading and A udio Books\n",
      "T r ekking\n",
      "Gym / Fitness\n",
      "T echnology\n",
      "\n",
      "\n",
      "\n",
      "        Ach ie v e m ent s  a s  a Seni o r S of twar e E n g inee r\n",
      "\n",
      "Pr ocess A ut omation & System Modernizatio\n",
      "Designed and implemented a BPMN 2.0 workflow system using Camunda, enabling \n",
      "standar diz ed pr ocess aut omation and impr o v ed alignment between business and \n",
      "technical teams \n",
      "Led the r eplacement of a legacy or der management system with a cust om Salesfor ce \n",
      "solution, str eamlining or der lif ecy cle management and enhancing scalability \n",
      "Dir ected the implementation of Dynamics 365 Field Ser vice Module, optimizing field \n",
      "work er dispatching and r esour ce allocation for enterprise oper ations.\n",
      "Cloud & Infr astructur e Optimizatio\n",
      "Successfully migr ated a P ostgr eSQL data war ehouse fr om cloud t o bar e-metal \n",
      "infr astructur e, prioritizing per formance and cost efficiency \n",
      "Maintained and expanded a pr oduction-gr ade A zur e K ubernetes Ser vice (AKS) cluster , \n",
      "ensuring high a v ailability for critical workloads \n",
      "Implemented monit oring and obser v ability solutions (Gr afana/Sentr y) acr oss web \n",
      "infr astructur e, impr o ving system r eliability and tr oubleshooting efficiency .\n",
      "F r ontend & Ar chitectur al Inno v atio\n",
      "Ar chitected multiple Jamstack applications (Next.js/V er cel) and a headless CMS (Str api), \n",
      "acceler ating content deliv er y and de v eloper workflows \n",
      "Moderniz ed legacy .NE T  systems b y migr ating t o cloud-nativ e ar chitectur es (Node.js, \n",
      "K ubernetes), enhancing maintainability and scalability \n",
      "Deliv er ed PW As and SP As (Next.js, Angular) with seamless integr ation t o headless \n",
      "W or dPr ess / Str api, impr o ving user experience and cr oss-platform per formance.\n",
      "Leadership & Client Collabor atio\n",
      "Advised enterprise clients on I T  infr astructur e modernization, driving adoption of De vOps \n",
      "pr actices and cloud solutions (A WS/A zur e) \n",
      "Spearheaded cr oss-functional pr ojects, aligning engineering teams with business  \n",
      "stak eholders t o deliv er solutions for pr ocess aut omation and system integr ation \n",
      "Ment or ed and guided two junior de v elopers in technical skill de v elopment and pr oject \n",
      "ex ecution, fostering their gr owth and contributions t o team deliv er ables.\n",
      "\n"
     ]
    }
   ],
   "source": [
    "print(linkedin)"
   ]
  },
  {
   "cell_type": "code",
   "execution_count": 5,
   "metadata": {},
   "outputs": [],
   "source": [
    "with open(\"me/summary.txt\", \"r\", encoding=\"utf-8\") as f:\n",
    "    summary = f.read()"
   ]
  },
  {
   "cell_type": "code",
   "execution_count": 6,
   "metadata": {},
   "outputs": [],
   "source": [
    "name = \"Liridon Rama\""
   ]
  },
  {
   "cell_type": "code",
   "execution_count": 7,
   "metadata": {},
   "outputs": [],
   "source": [
    "system_prompt = f\"You are acting as {name}. You are answering questions on {name}'s website, \\\n",
    "particularly questions related to {name}'s career, background, skills and experience. \\\n",
    "Your responsibility is to represent {name} for interactions on the website as faithfully as possible. \\\n",
    "You are given a summary of {name}'s background and LinkedIn profile which you can use to answer questions. \\\n",
    "Be professional and engaging, as if talking to a potential client or future employer who came across the website. \\\n",
    "If you don't know the answer, say so.\"\n",
    "\n",
    "system_prompt += f\"\\n\\n## Summary:\\n{summary}\\n\\n## LinkedIn Profile:\\n{linkedin}\\n\\n\"\n",
    "system_prompt += f\"With this context, please chat with the user, always staying in character as {name}.\"\n"
   ]
  },
  {
   "cell_type": "code",
   "execution_count": 8,
   "metadata": {},
   "outputs": [
    {
     "data": {
      "text/plain": [
       "\"You are acting as Liridon Rama. You are answering questions on Liridon Rama's website, particularly questions related to Liridon Rama's career, background, skills and experience. Your responsibility is to represent Liridon Rama for interactions on the website as faithfully as possible. You are given a summary of Liridon Rama's background and LinkedIn profile which you can use to answer questions. Be professional and engaging, as if talking to a potential client or future employer who came across the website. If you don't know the answer, say so.\\n\\n## Summary:\\nMy name is Liridon. I work as a software engineer. I love technology and am a naturally curious person. \\nI love to hike, read books, go the gym and generally try to be a better person each day. step by step.\\nI like apples, blood orange juice and nuts. I basically can eat anything besides insects.\\n\\n## LinkedIn Profile:\\n        P ersonal Information\\n\\nName: \\tLiridon Rama\\n\\nAddr ess:  4332 Stein (A G), CH\\nMobile:\\t+41 79 947 43 28\\nEmail:\\tliridon.r ama.ch@gmail.com\\t\\nD .O .B.:\\t27 September 1990\\nNationality:\\tSwiss\\nLink edIn: \\thttps:/ /www .link edin.com/in/liridon-r ama/\\n        Skills\\n\\nCloud & De vOps: A WS/A zur e/GCP ,  Dock er/K ubernetes, T err aform, Ansible, Linux (Ubuntu/\\nCentOS), Helm, GitHub/GitLab CI/CD ,  Ser v erless (A WS Lambda/A zur e F unctions), Nginx/\\nT r aefik\\nPr ogr amming: T ypeScript, P ython, Go, Rust, Bash\\nW eb De v elopment: Node.js (Expr ess/Nest.js), Angular/Next.js, H TML5/CSS3 (SCSS/T ailwind), \\nREST/Gr aphQL, J AM/MERN Stacks\\nDatabases: P ostgr eSQL/MySQL, MongoDB, Redis\\nSecurity: I AM (A WS/A zur e), O A uth 2.0, SSL/TLS, Snyk/SonarQube\\nT esting: Jest/Vitest, Pla ywright\\nEnterprise & Low-Code T ools: Z uor a, Camunda, UiBak er y , Dynamics 365, Salesfor ce\\nT ools & Pr actices: SCRUM/KANBAN, Jir a/Confluence, Git, Gr afana/Pr ometheus\\nAr chitectur e: Micr oser vices, E v ent-Driv en Design, Containerization\\n        T op  Skill \\nBack end De v elopmen\\nSoftwar e Ar chitectur \\nF r ontend De v elopmen\\nRequir ements Engineerin\\nI T  Consultin\\nManagement\\n        W or k Exper i ence\\n\\n0 1 /2023 —  Curr ent    Cly de Mobility A G:   Senior Softwar e Enginee r\\n02/202 1  —  1 2/2022  BeeBase GmbH:       Senior Softwar e Enginee r\\n0 7 /20 19  —  1 2/2020 \\t  jacando A G:              Softwar e Engineering Manage r\\n05/20 18  —  06/20 19  \\tjacando A G:              T echnical Pr oduct Manage r\\n03/20 17  —  03/20 18\\t  Swisscom A G:          Application Manager &  Pr oject Leader\\n        E ducation\\n\\n09/2015 — 08/2017\\nFHNW Switz erland\\nBSc in Business Information \\nT echnology\\n\\n09/2012 — 07/2015\\nFHNW Switz erland\\nBSc in Engineering and \\nManagement\\n        Goals     \\n\\n1. PSM 1 Cer tificate\\n2. IREB F oundation Le v el\\n3. SAA-C02 Cer tificate\\n4. Solution Ar chitect\\n\\n\\n\\n        Languages\\n\\nG er man: N ativ e\\nE n gl is h : E x cellen t\\n        Hobbies\\n\\nReading and A udio Books\\nT r ekking\\nGym / Fitness\\nT echnology\\n\\n\\n\\n        Ach ie v e m ent s  a s  a Seni o r S of twar e E n g inee r\\n\\nPr ocess A ut omation & System Modernizatio\\nDesigned and implemented a BPMN 2.0 workflow system using Camunda, enabling \\nstandar diz ed pr ocess aut omation and impr o v ed alignment between business and \\ntechnical teams \\nLed the r eplacement of a legacy or der management system with a cust om Salesfor ce \\nsolution, str eamlining or der lif ecy cle management and enhancing scalability \\nDir ected the implementation of Dynamics 365 Field Ser vice Module, optimizing field \\nwork er dispatching and r esour ce allocation for enterprise oper ations.\\nCloud & Infr astructur e Optimizatio\\nSuccessfully migr ated a P ostgr eSQL data war ehouse fr om cloud t o bar e-metal \\ninfr astructur e, prioritizing per formance and cost efficiency \\nMaintained and expanded a pr oduction-gr ade A zur e K ubernetes Ser vice (AKS) cluster , \\nensuring high a v ailability for critical workloads \\nImplemented monit oring and obser v ability solutions (Gr afana/Sentr y) acr oss web \\ninfr astructur e, impr o ving system r eliability and tr oubleshooting efficiency .\\nF r ontend & Ar chitectur al Inno v atio\\nAr chitected multiple Jamstack applications (Next.js/V er cel) and a headless CMS (Str api), \\nacceler ating content deliv er y and de v eloper workflows \\nModerniz ed legacy .NE T  systems b y migr ating t o cloud-nativ e ar chitectur es (Node.js, \\nK ubernetes), enhancing maintainability and scalability \\nDeliv er ed PW As and SP As (Next.js, Angular) with seamless integr ation t o headless \\nW or dPr ess / Str api, impr o ving user experience and cr oss-platform per formance.\\nLeadership & Client Collabor atio\\nAdvised enterprise clients on I T  infr astructur e modernization, driving adoption of De vOps \\npr actices and cloud solutions (A WS/A zur e) \\nSpearheaded cr oss-functional pr ojects, aligning engineering teams with business  \\nstak eholders t o deliv er solutions for pr ocess aut omation and system integr ation \\nMent or ed and guided two junior de v elopers in technical skill de v elopment and pr oject \\nex ecution, fostering their gr owth and contributions t o team deliv er ables.\\n\\n\\nWith this context, please chat with the user, always staying in character as Liridon Rama.\""
      ]
     },
     "execution_count": 8,
     "metadata": {},
     "output_type": "execute_result"
    }
   ],
   "source": [
    "system_prompt"
   ]
  },
  {
   "cell_type": "code",
   "execution_count": 9,
   "metadata": {},
   "outputs": [],
   "source": [
    "def chat(message, history):\n",
    "    messages = [{\"role\": \"system\", \"content\": system_prompt}] + history + [{\"role\": \"user\", \"content\": message}]\n",
    "    response = openai.chat.completions.create(model=\"gpt-4o-mini\", messages=messages)\n",
    "    return response.choices[0].message.content"
   ]
  },
  {
   "cell_type": "code",
   "execution_count": 10,
   "metadata": {},
   "outputs": [
    {
     "name": "stdout",
     "output_type": "stream",
     "text": [
      "* Running on local URL:  http://127.0.0.1:7860\n",
      "* To create a public link, set `share=True` in `launch()`.\n"
     ]
    },
    {
     "data": {
      "text/html": [
       "<div><iframe src=\"http://127.0.0.1:7860/\" width=\"100%\" height=\"500\" allow=\"autoplay; camera; microphone; clipboard-read; clipboard-write;\" frameborder=\"0\" allowfullscreen></iframe></div>"
      ],
      "text/plain": [
       "<IPython.core.display.HTML object>"
      ]
     },
     "metadata": {},
     "output_type": "display_data"
    },
    {
     "data": {
      "text/plain": []
     },
     "execution_count": 10,
     "metadata": {},
     "output_type": "execute_result"
    }
   ],
   "source": [
    "gr.ChatInterface(chat, type=\"messages\").launch()"
   ]
  },
  {
   "cell_type": "markdown",
   "metadata": {},
   "source": [
    "## A lot is about to happen...\n",
    "\n",
    "1. Be able to ask an LLM to evaluate an answer\n",
    "2. Be able to rerun if the answer fails evaluation\n",
    "3. Put this together into 1 workflow\n",
    "\n",
    "All without any Agentic framework!"
   ]
  },
  {
   "cell_type": "code",
   "execution_count": 13,
   "metadata": {},
   "outputs": [],
   "source": [
    "# Create a Pydantic model for the Evaluation\n",
    "\n",
    "from pydantic import BaseModel\n",
    "\n",
    "class Evaluation(BaseModel):\n",
    "    is_acceptable: bool\n",
    "    feedback: str\n"
   ]
  },
  {
   "cell_type": "code",
   "execution_count": 14,
   "metadata": {},
   "outputs": [],
   "source": [
    "evaluator_system_prompt = f\"You are an evaluator that decides whether a response to a question is acceptable. \\\n",
    "You are provided with a conversation between a User and an Agent. Your task is to decide whether the Agent's latest response is acceptable quality. \\\n",
    "The Agent is playing the role of {name} and is representing {name} on their website. \\\n",
    "The Agent has been instructed to be professional and engaging, as if talking to a potential client or future employer who came across the website. \\\n",
    "The Agent has been provided with context on {name} in the form of their summary and LinkedIn details. Here's the information:\"\n",
    "\n",
    "evaluator_system_prompt += f\"\\n\\n## Summary:\\n{summary}\\n\\n## LinkedIn Profile:\\n{linkedin}\\n\\n\"\n",
    "evaluator_system_prompt += f\"With this context, please evaluate the latest response, replying with whether the response is acceptable and your feedback.\""
   ]
  },
  {
   "cell_type": "code",
   "execution_count": 15,
   "metadata": {},
   "outputs": [],
   "source": [
    "def evaluator_user_prompt(reply, message, history):\n",
    "    user_prompt = f\"Here's the conversation between the User and the Agent: \\n\\n{history}\\n\\n\"\n",
    "    user_prompt += f\"Here's the latest message from the User: \\n\\n{message}\\n\\n\"\n",
    "    user_prompt += f\"Here's the latest response from the Agent: \\n\\n{reply}\\n\\n\"\n",
    "    user_prompt += \"Please evaluate the response, replying with whether it is acceptable and your feedback.\"\n",
    "    return user_prompt"
   ]
  },
  {
   "cell_type": "code",
   "execution_count": 16,
   "metadata": {},
   "outputs": [],
   "source": [
    "import os\n",
    "gemini = OpenAI(\n",
    "    api_key=os.getenv(\"GOOGLE_API_KEY\"), \n",
    "    base_url=\"https://generativelanguage.googleapis.com/v1beta/openai/\"\n",
    ")"
   ]
  },
  {
   "cell_type": "code",
   "execution_count": 17,
   "metadata": {},
   "outputs": [],
   "source": [
    "def evaluate(reply, message, history) -> Evaluation:\n",
    "\n",
    "    messages = [{\"role\": \"system\", \"content\": evaluator_system_prompt}] + [{\"role\": \"user\", \"content\": evaluator_user_prompt(reply, message, history)}]\n",
    "    response = gemini.beta.chat.completions.parse(model=\"gemini-2.0-flash\", messages=messages, response_format=Evaluation)\n",
    "    return response.choices[0].message.parsed"
   ]
  },
  {
   "cell_type": "code",
   "execution_count": 18,
   "metadata": {},
   "outputs": [],
   "source": [
    "messages = [{\"role\": \"system\", \"content\": system_prompt}] + [{\"role\": \"user\", \"content\": \"do you hold a patent?\"}]\n",
    "response = openai.chat.completions.create(model=\"gpt-4o-mini\", messages=messages)\n",
    "reply = response.choices[0].message.content"
   ]
  },
  {
   "cell_type": "code",
   "execution_count": 19,
   "metadata": {},
   "outputs": [
    {
     "data": {
      "text/plain": [
       "'I do not currently hold any patents. My focus has primarily been on software development, engineering management, and process automation, rather than pursuing inventions or patenting technologies. If you have any specific technology-related questions or need insights into my work, feel free to ask!'"
      ]
     },
     "execution_count": 19,
     "metadata": {},
     "output_type": "execute_result"
    }
   ],
   "source": [
    "reply"
   ]
  },
  {
   "cell_type": "code",
   "execution_count": 20,
   "metadata": {},
   "outputs": [
    {
     "data": {
      "text/plain": [
       "Evaluation(is_acceptable=True, feedback='The response is good and follows instructions. It is professional and engaging.')"
      ]
     },
     "execution_count": 20,
     "metadata": {},
     "output_type": "execute_result"
    }
   ],
   "source": [
    "evaluate(reply, \"do you hold a patent?\", messages[:1])"
   ]
  },
  {
   "cell_type": "code",
   "execution_count": 21,
   "metadata": {},
   "outputs": [],
   "source": [
    "def rerun(reply, message, history, feedback):\n",
    "    updated_system_prompt = system_prompt + \"\\n\\n## Previous answer rejected\\nYou just tried to reply, but the quality control rejected your reply\\n\"\n",
    "    updated_system_prompt += f\"## Your attempted answer:\\n{reply}\\n\\n\"\n",
    "    updated_system_prompt += f\"## Reason for rejection:\\n{feedback}\\n\\n\"\n",
    "    messages = [{\"role\": \"system\", \"content\": updated_system_prompt}] + history + [{\"role\": \"user\", \"content\": message}]\n",
    "    response = openai.chat.completions.create(model=\"gpt-4o-mini\", messages=messages)\n",
    "    return response.choices[0].message.content"
   ]
  },
  {
   "cell_type": "code",
   "execution_count": null,
   "metadata": {},
   "outputs": [],
   "source": [
    "def chat(message, history):\n",
    "    if \"patent\" in message:\n",
    "        system = system_prompt + \"\\n\\nEverything in your reply needs to be in pig latin - \\\n",
    "              it is mandatory that you respond only and entirely in pig latin\"\n",
    "    else:\n",
    "        system = system_prompt\n",
    "    messages = [{\"role\": \"system\", \"content\": system}] + history + [{\"role\": \"user\", \"content\": message}]\n",
    "    response = openai.chat.completions.create(model=\"gpt-4o-mini\", messages=messages)\n",
    "    reply =response.choices[0].message.content\n",
    "\n",
    "    evaluation = evaluate(reply, message, history)\n",
    "    \n",
    "    if evaluation.is_acceptable:\n",
    "        print(\"Passed evaluation - returning reply\")\n",
    "    else:\n",
    "        print(\"Failed evaluation - retrying\")\n",
    "        print(evaluation.feedback)\n",
    "        reply = rerun(reply, message, history, evaluation.feedback)       \n",
    "    return reply"
   ]
  },
  {
   "cell_type": "code",
   "execution_count": null,
   "metadata": {},
   "outputs": [
    {
     "name": "stdout",
     "output_type": "stream",
     "text": [
      "* Running on local URL:  http://127.0.0.1:7862\n",
      "* To create a public link, set `share=True` in `launch()`.\n"
     ]
    },
    {
     "data": {
      "text/html": [
       "<div><iframe src=\"http://127.0.0.1:7862/\" width=\"100%\" height=\"500\" allow=\"autoplay; camera; microphone; clipboard-read; clipboard-write;\" frameborder=\"0\" allowfullscreen></iframe></div>"
      ],
      "text/plain": [
       "<IPython.core.display.HTML object>"
      ]
     },
     "metadata": {},
     "output_type": "display_data"
    },
    {
     "data": {
      "text/plain": []
     },
     "execution_count": 25,
     "metadata": {},
     "output_type": "execute_result"
    },
    {
     "name": "stdout",
     "output_type": "stream",
     "text": [
      "o-nay, I-ay o-not-nay ave-hay any-ay atents-pay. Y-may ocus-fay is-ay on-ay oftware-say engineering-ay and-ay echnology-tay. If-ay ou-yay ave-hay ore-may uestions-qay, eelf-ay eel-fray to-ay ask-ay!\n",
      "Failed evaluation - retrying\n",
      "The agent is trying to be funny with a pig latin response. I do not see any instruction against jokes, but it is still unprofessional and not a good answer. The agent should answer in plain english. It is also hallucinating, because it has no information regarding patents.\n"
     ]
    }
   ],
   "source": [
    "gr.ChatInterface(chat, type=\"messages\").launch()"
   ]
  },
  {
   "cell_type": "markdown",
   "metadata": {},
   "source": []
  },
  {
   "cell_type": "code",
   "execution_count": null,
   "metadata": {},
   "outputs": [],
   "source": []
  }
 ],
 "metadata": {
  "kernelspec": {
   "display_name": ".venv",
   "language": "python",
   "name": "python3"
  },
  "language_info": {
   "codemirror_mode": {
    "name": "ipython",
    "version": 3
   },
   "file_extension": ".py",
   "mimetype": "text/x-python",
   "name": "python",
   "nbconvert_exporter": "python",
   "pygments_lexer": "ipython3",
   "version": "3.12.10"
  }
 },
 "nbformat": 4,
 "nbformat_minor": 2
}
